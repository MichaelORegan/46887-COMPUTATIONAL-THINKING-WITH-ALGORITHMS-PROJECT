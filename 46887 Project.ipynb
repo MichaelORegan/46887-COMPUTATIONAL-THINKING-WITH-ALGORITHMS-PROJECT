{
 "cells": [
  {
   "cell_type": "markdown",
   "metadata": {
    "collapsed": true
   },
   "source": [
    "# Introduction"
   ]
  },
  {
   "cell_type": "markdown",
   "metadata": {},
   "source": [
    "No one algorithm is going to be able to cope efficiently with every sort we want it to preform, therefore it is imperative to know about many different sorting algorithms so that we are in a position to make an informed decision about what one will preform best given our set of data to be sorted.\n",
    "\n"
   ]
  },
  {
   "cell_type": "markdown",
   "metadata": {},
   "source": [
    "One type of sorting algorithm is an algorithm that compares each elelment to another element.  These sorting algorithms are called comparison based sorting algorithms.  They are called comparison sorting algorithms because they sort the data by comparing the elements.\n",
    "The following algorithms are comparison sorting algorithms: Bubble Sort, Selection Sort, Insertion Sort, Merge Sort, Quicksort, Heapsort"
   ]
  },
  {
   "cell_type": "markdown",
   "metadata": {},
   "source": [
    "Another type of sorting algorithm is an algorithm that does not compare each element to another element.  These sorting algorithms are called non comparison sorting algorithms.\n",
    "The following sorting algorithms are non comparison based sorting algorithms: Counting Sort and Bucket Sort."
   ]
  },
  {
   "cell_type": "markdown",
   "metadata": {},
   "source": [
    "There is a third type of sorting algorithm and these sorting algorithms are called hybrid sorting algorithms.  They take 2 or more sorting algorithms and make them into 1 sorting algorithm.  \n",
    "The following sorting algorithms are hybrid sorting algorithms: Timsort and Introsort."
   ]
  },
  {
   "cell_type": "markdown",
   "metadata": {},
   "source": [
    "There are many other sorting algorithms in existence than I have listed above and for this project I am going to concentrate on the following five algortihms:  Bubble Sort, Insertion Sort, Merge Sort, Bucket Sort and \n",
    "\n",
    "Now I will look at the general characteristics of sorting algorithms."
   ]
  },
  {
   "cell_type": "markdown",
   "metadata": {},
   "source": [
    "## Stability\n",
    "\n",
    "An algorithm is said to be stable if it preserves the relative order of equal elements in the input array.\n",
    "Some algortihms are stable like .... Some algorithms are not stable and the relative order even though the elements are equal or sorted the position could change.  Non stable algorithms include...\n",
    "\n",
    "This is another reason to have knowledge of your data firstly and what you want the algorithm to do.\n",
    "\n",
    "If the relative position of the input data is not important maybe we can take a look at the time efficiency and what can impact it.\n"
   ]
  },
  {
   "cell_type": "markdown",
   "metadata": {},
   "source": [
    "## Time Efficiency\n",
    "\n",
    "Time efficiency is defined in the main by the number of items to be sorted.\n",
    "\n",
    "Other factors to be considered in regard to time efficiency are:\n",
    "Are items pre sorted?\n",
    "Use fast memory like RAM or slower memory like an external hard drive.\n",
    "\n",
    "### Best Case / Worst Case / Average Case\n",
    "\n",
    "These are going to be based on how many elements are in the data array and how the algorithm works.  If the algorithm loops through every element.\n",
    "\n",
    "So the best case is that the data becomes sorted after 1 loop or pass by the algorithm.  This time complexity is O(n), n being the number of elements.\n",
    "\n",
    "\n"
   ]
  },
  {
   "cell_type": "markdown",
   "metadata": {},
   "source": [
    "## In Place Sorting\n",
    "\n",
    "In it most basic form in place sorting is when the data array is sorted within internal memory.  If data is very large or the data needs to be sorted externally of the array, external memory will be sued such as an external hard disc drive or cd or some other storage device.\n",
    "\n",
    "When all data is placed in memory and sorted, this is known as in place sorting.  No extra memory is required.  If memory is a problem then an algorithm that uses external memory might be a better option.\n",
    "\n",
    "Algorithms that are in place sorting algorithms are: Insertion sort and Selection sort.\n",
    "\n",
    "Algorithms that use extra memory and are therefore not in place sorting algorithms are: Merge sort."
   ]
  },
  {
   "cell_type": "markdown",
   "metadata": {},
   "source": [
    "## Comparator Functions"
   ]
  },
  {
   "cell_type": "markdown",
   "metadata": {},
   "source": [
    "## Suitability\n",
    "\n",
    "The sorting algorithm must be suitable for the sorting task required.\n",
    "\n",
    "This really becomes relevant when the data becomes large or at least when the data to be sorted goes over 10,000 elements in size.  At this size algorithms like Bubblesort will take much longer.\n",
    "\n",
    "\n",
    "\n"
   ]
  },
  {
   "cell_type": "markdown",
   "metadata": {},
   "source": [
    "# Sorting Algorithms"
   ]
  },
  {
   "cell_type": "markdown",
   "metadata": {},
   "source": [
    "## Bubble Sort"
   ]
  },
  {
   "cell_type": "markdown",
   "metadata": {},
   "source": [
    "### How the algorithm works\n",
    "\n",
    "As stated above Bubble Sort is a comparison based algorithm.  It is also one fo the simplest sorting algorithms.\n",
    "In Bubble Sort the first number, position [0] is compared to the second number, position [1], and if they are not in order they are swapped, then it compares the second number position [1] with the third number position [2].  If they are in order it moves on to compare position [2]  and position [3].  If position [1] and position [2] were not in order they swap position and so on through n numbers.\n",
    "\n",
    "The algorithm carries on comparing the numbers and the largest number will move through the array, left to right, like a bubble would move up through a drink.\n",
    "\n",
    "After the first pass the largest number is in the correct position, n'th position.  The algorithm then moves through the array again, comparing numbers with the number beside them.  After the second pass the second largest number is in position n-1.  It continues this until the array is sorted.\n",
    "\n",
    "The code I have below for this algorithm is from the following website.\n",
    "http://interactivepython.org/courselib/static/pythonds/SortSearch/TheBubbleSort.html\n",
    "\n",
    "After reading about bubble sort on interactivepython I then put the code through this visualise website to see it in action. http://www.pythontutor.com/visualize.html#mode=edit"
   ]
  },
  {
   "cell_type": "code",
   "execution_count": 13,
   "metadata": {},
   "outputs": [
    {
     "name": "stdout",
     "output_type": "stream",
     "text": [
      "[17, 20, 26, 31, 44, 54, 55, 77, 93]\n"
     ]
    }
   ],
   "source": [
    "def bubbleSort(alist):                        # defining the algorithm\n",
    "    for passnum in range(len(alist)-1,0,-1):  # giving the length of the array to passnum\n",
    "        for i in range(passnum):              # all in the range of passnum\n",
    "            if alist[i]>alist[i+1]:           # \n",
    "                temp = alist[i]\n",
    "                alist[i] = alist[i+1]\n",
    "                alist[i+1] = temp\n",
    "\n",
    "alist = [54,26,93,17,77,31,44,55,20]\n",
    "bubbleSort(alist)\n",
    "print(alist)"
   ]
  },
  {
   "cell_type": "markdown",
   "metadata": {},
   "source": [
    "### Time Complexity\n",
    "\n",
    "#### Best / Worst / Average \n",
    "\n",
    "This algorithm has a best time complexity of O(n) time and a worst time complexity of O(n^2) "
   ]
  },
  {
   "cell_type": "markdown",
   "metadata": {},
   "source": [
    "## Insertion Sort"
   ]
  },
  {
   "cell_type": "markdown",
   "metadata": {},
   "source": [
    "### How the algorithm works\n",
    "\n",
    "In this algorithm "
   ]
  },
  {
   "cell_type": "code",
   "execution_count": 14,
   "metadata": {},
   "outputs": [
    {
     "name": "stdout",
     "output_type": "stream",
     "text": [
      "[17, 20, 26, 31, 44, 54, 55, 77, 93]\n"
     ]
    }
   ],
   "source": [
    "def insertionSort(alist):\n",
    "   for index in range(1,len(alist)):\n",
    "\n",
    "     currentvalue = alist[index]\n",
    "     position = index\n",
    "\n",
    "     while position>0 and alist[position-1]>currentvalue:\n",
    "         alist[position]=alist[position-1]\n",
    "         position = position-1\n",
    "\n",
    "     alist[position]=currentvalue\n",
    "\n",
    "alist = [54,26,93,17,77,31,44,55,20]\n",
    "insertionSort(alist)\n",
    "print(alist)"
   ]
  },
  {
   "cell_type": "markdown",
   "metadata": {},
   "source": [
    "### Time Complexity\n",
    "\n",
    "#### Best / Worst / Average \n",
    "\n",
    "This algorithm"
   ]
  },
  {
   "cell_type": "markdown",
   "metadata": {},
   "source": []
  },
  {
   "cell_type": "markdown",
   "metadata": {},
   "source": [
    "## Merge Sort"
   ]
  },
  {
   "cell_type": "markdown",
   "metadata": {},
   "source": [
    "### How the algorithm works\n",
    "\n"
   ]
  },
  {
   "cell_type": "code",
   "execution_count": 16,
   "metadata": {},
   "outputs": [
    {
     "name": "stdout",
     "output_type": "stream",
     "text": [
      "[17, 20, 26, 31, 44, 54, 55, 77, 93]\n"
     ]
    }
   ],
   "source": [
    "def mergeSort(alist):\n",
    "#    print(\"Splitting \",alist)\n",
    "    if len(alist)>1:\n",
    "        mid = len(alist)//2\n",
    "        lefthalf = alist[:mid]\n",
    "        righthalf = alist[mid:]\n",
    "\n",
    "        mergeSort(lefthalf)\n",
    "        mergeSort(righthalf)\n",
    "\n",
    "        i=0\n",
    "        j=0\n",
    "        k=0\n",
    "        while i < len(lefthalf) and j < len(righthalf):\n",
    "            if lefthalf[i] < righthalf[j]:\n",
    "                alist[k]=lefthalf[i]\n",
    "                i=i+1\n",
    "            else:\n",
    "                alist[k]=righthalf[j]\n",
    "                j=j+1\n",
    "            k=k+1\n",
    "\n",
    "        while i < len(lefthalf):\n",
    "            alist[k]=lefthalf[i]\n",
    "            i=i+1\n",
    "            k=k+1\n",
    "\n",
    "        while j < len(righthalf):\n",
    "            alist[k]=righthalf[j]\n",
    "            j=j+1\n",
    "            k=k+1\n",
    "#    print(\"Merging \",alist)\n",
    "\n",
    "alist = [54,26,93,17,77,31,44,55,20]\n",
    "mergeSort(alist)\n",
    "print(alist)"
   ]
  },
  {
   "cell_type": "markdown",
   "metadata": {},
   "source": [
    "### Time Complexity\n",
    "\n",
    "#### Best / Worst / Average \n",
    "\n",
    "This algorithm"
   ]
  },
  {
   "cell_type": "markdown",
   "metadata": {},
   "source": []
  },
  {
   "cell_type": "markdown",
   "metadata": {},
   "source": [
    "## Bucket Sort"
   ]
  },
  {
   "cell_type": "markdown",
   "metadata": {},
   "source": [
    "### How the algorithm works\n",
    "\n",
    "Bucket sort is a divide and conquer algorithm.  The algorithm divides the array into buckets.  It works best when the array is evenly distributed and therefore the buckets will also be evenly filled after division.  This means that no one bucket is doing too much sorting.  For example with a numbered array depending on the largest value and length of the array it may put the values in buckets of size 0-9, 10-19, 20-29 etc etc\n",
    "The size for the buckets is set by dividing the largest number by the length of the data.  The data is then put into \"buckets\" via empty lists.\n",
    "\n",
    "Each bucket is then sorted by insertion sort and merged back with the other sorted buckets.\n"
   ]
  },
  {
   "cell_type": "code",
   "execution_count": 18,
   "metadata": {},
   "outputs": [
    {
     "name": "stdout",
     "output_type": "stream",
     "text": [
      "[17, 20, 26, 31, 44, 54, 55, 77, 93]\n"
     ]
    }
   ],
   "source": [
    "def bucket_sort(alist):\n",
    "    largest = max(alist)                         # set the biggest number to largest\n",
    "    length = len(alist)                          # set the size/number of the array to length\n",
    "    size = largest/length                        # set size to the largest divided b the length\n",
    " \n",
    "    buckets = [[] for _ in range(length)]        # set empty arrays to buckets\n",
    "    for i in range(length):                      # loop through the length of the array\n",
    "        j = int(alist[i]/size)                   \n",
    "        if j != length:\n",
    "            buckets[j].append(alist[i])\n",
    "        else:\n",
    "            buckets[length - 1].append(alist[i])\n",
    " \n",
    "    for i in range(length):\n",
    "        insertion_sort(buckets[i])\n",
    " \n",
    "    result = []\n",
    "    for i in range(length):\n",
    "        result = result + buckets[i]\n",
    " \n",
    "    return result\n",
    " \n",
    "def insertion_sort(alist):\n",
    "    for i in range(1, len(alist)):\n",
    "        temp = alist[i]\n",
    "        j = i - 1\n",
    "        while (j >= 0 and temp < alist[j]):\n",
    "            alist[j + 1] = alist[j]\n",
    "            j = j - 1\n",
    "        alist[j + 1] = temp\n",
    " \n",
    " \n",
    "alist = [54,26,93,17,77,31,44,55,20]\n",
    "sorted_list = bucket_sort(alist)\n",
    "print(sorted_list)"
   ]
  },
  {
   "cell_type": "markdown",
   "metadata": {},
   "source": [
    "### Time Complexity\n",
    "\n",
    "#### Best / Worst / Average \n",
    "\n",
    "This algorithm"
   ]
  },
  {
   "cell_type": "markdown",
   "metadata": {},
   "source": [
    "# Implementation and Benchmarking"
   ]
  },
  {
   "cell_type": "code",
   "execution_count": null,
   "metadata": {},
   "outputs": [],
   "source": []
  },
  {
   "cell_type": "code",
   "execution_count": null,
   "metadata": {},
   "outputs": [],
   "source": []
  },
  {
   "cell_type": "code",
   "execution_count": 1,
   "metadata": {},
   "outputs": [],
   "source": [
    "import time\n",
    "import statistics\n",
    "import numpy as np  # importing numpy as np\n",
    "import pandas as pd # importing pandas as pd"
   ]
  },
  {
   "cell_type": "markdown",
   "metadata": {},
   "source": [
    "### Data Array\n",
    "For my data arrays I will use numpy's random randint number generator.\n",
    "\n",
    "To try to have the test as fair as possible I am using a random seed generator so that all the arrays to be sorted are the same.  The arrays used in the sortign algorithms are below."
   ]
  },
  {
   "cell_type": "code",
   "execution_count": 2,
   "metadata": {},
   "outputs": [],
   "source": [
    "np.random.seed(1)                                # seeding random on seed 1 so that all the arrays are the same\n",
    "\n",
    "a = np.random.randint(200000, size=100)          # array of size 100\n",
    "b = np.random.randint(200000, size=250)          # array of size 250\n",
    "c = np.random.randint(200000, size=500)          # array of size 500\n",
    "d = np.random.randint(200000, size=750)          # array of size 750\n",
    "e = np.random.randint(200000, size=1000)         # array of size 1000\n",
    "f = np.random.randint(200000, size=2500)         # array of size 2500\n",
    "g = np.random.randint(200000, size=5000)         # array of size 5000\n",
    "h = np.random.randint(200000, size=7500)         # array of size 7500\n",
    "i = np.random.randint(200000, size=10000)        # array of size 10000\n",
    "j = np.random.randint(200000, size=20000)        # array of size 20000\n",
    "k = np.random.randint(200000, size=50000)        # array of size 50000"
   ]
  },
  {
   "cell_type": "code",
   "execution_count": null,
   "metadata": {},
   "outputs": [],
   "source": []
  },
  {
   "cell_type": "code",
   "execution_count": 15,
   "metadata": {},
   "outputs": [],
   "source": [
    "import csv\n",
    "\n",
    "with open('benchmark_file.csv', mode='w') as benchmark_file:\n",
    "    benchmark_writer = csv.writer(benchmark_file, delimiter=',', quotechar='\"', quoting=csv.QUOTE_MINIMAL)\n",
    "\n",
    "    benchmark_writer.writerow([\"d1\"])\n",
    "    benchmark_writer.writerow([d2])"
   ]
  },
  {
   "cell_type": "markdown",
   "metadata": {},
   "source": [
    "To call the times for the sorting algorithms sorting of the above arrays I will use %run command followed by the file name.  I will use these array to create a dataframe using pandas."
   ]
  },
  {
   "cell_type": "code",
   "execution_count": null,
   "metadata": {
    "collapsed": true
   },
   "outputs": [],
   "source": [
    "%run benchmarkbubble.py  \n",
    "# https://stackoverflow.com/questions/21034373/how-to-load-edit-run-save-text-files-py-into-an-ipython-notebook-cell\n",
    "\n",
    "print(bubblebench)"
   ]
  },
  {
   "cell_type": "code",
   "execution_count": null,
   "metadata": {
    "collapsed": true
   },
   "outputs": [],
   "source": [
    "%run benchmarkinsertion.py\n",
    "\n",
    "print(insertionbench)"
   ]
  },
  {
   "cell_type": "code",
   "execution_count": null,
   "metadata": {},
   "outputs": [],
   "source": []
  },
  {
   "cell_type": "code",
   "execution_count": null,
   "metadata": {},
   "outputs": [],
   "source": []
  },
  {
   "cell_type": "code",
   "execution_count": null,
   "metadata": {},
   "outputs": [],
   "source": []
  },
  {
   "cell_type": "code",
   "execution_count": null,
   "metadata": {},
   "outputs": [],
   "source": []
  },
  {
   "cell_type": "code",
   "execution_count": null,
   "metadata": {},
   "outputs": [],
   "source": []
  },
  {
   "cell_type": "code",
   "execution_count": null,
   "metadata": {},
   "outputs": [],
   "source": []
  },
  {
   "cell_type": "code",
   "execution_count": null,
   "metadata": {
    "collapsed": true
   },
   "outputs": [],
   "source": [
    "# https://www.tutorialspoint.com/python_pandas/python_pandas_dataframe.htm"
   ]
  },
  {
   "cell_type": "code",
   "execution_count": null,
   "metadata": {
    "collapsed": true
   },
   "outputs": [],
   "source": []
  },
  {
   "cell_type": "code",
   "execution_count": null,
   "metadata": {
    "collapsed": true
   },
   "outputs": [],
   "source": []
  }
 ],
 "metadata": {
  "kernelspec": {
   "display_name": "Python 3",
   "language": "python",
   "name": "python3"
  },
  "language_info": {
   "codemirror_mode": {
    "name": "ipython",
    "version": 3
   },
   "file_extension": ".py",
   "mimetype": "text/x-python",
   "name": "python",
   "nbconvert_exporter": "python",
   "pygments_lexer": "ipython3",
   "version": "3.7.3"
  }
 },
 "nbformat": 4,
 "nbformat_minor": 2
}
