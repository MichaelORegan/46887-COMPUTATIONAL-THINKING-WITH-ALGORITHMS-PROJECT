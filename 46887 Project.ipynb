{
 "cells": [
  {
   "cell_type": "markdown",
   "metadata": {
    "collapsed": true
   },
   "source": [
    "# <u>Introduction</u>"
   ]
  },
  {
   "cell_type": "markdown",
   "metadata": {},
   "source": [
    "No one algorithm is going to be able to cope efficiently with every sort we want it to preform, therefore it is imperative to know about many different sorting algorithms so that we are in a position to make an informed decision about what one will preform best given our set of data to be sorted.\n",
    "\n"
   ]
  },
  {
   "cell_type": "markdown",
   "metadata": {},
   "source": [
    "One type of sorting algorithm is an algorithm that compares each elelment to another element.  These sorting algorithms are called comparison based sorting algorithms.  They are called comparison sorting algorithms because they sort the data by comparing the elements.\n",
    "The following algorithms are comparison sorting algorithms: Bubble Sort, Selection Sort, Insertion Sort, Merge Sort, Quicksort, Heapsort"
   ]
  },
  {
   "cell_type": "markdown",
   "metadata": {},
   "source": [
    "Another type of sorting algorithm is an algorithm that does not compare each element to another element.  These sorting algorithms are called non comparison sorting algorithms.\n",
    "The following sorting algorithms are non comparison based sorting algorithms: Counting Sort and Bucket Sort."
   ]
  },
  {
   "cell_type": "markdown",
   "metadata": {},
   "source": [
    "There is a third type of sorting algorithm and these sorting algorithms are called hybrid sorting algorithms.  They take 2 or more sorting algorithms and make them into 1 sorting algorithm.  \n",
    "The following sorting algorithms are hybrid sorting algorithms: Timsort and Introsort."
   ]
  },
  {
   "cell_type": "markdown",
   "metadata": {},
   "source": [
    "There are many other sorting algorithms in existence than I have listed above and for this project I am going to concentrate on the following five algortihms:  Bubble Sort, Insertion Sort, Merge Sort, Bucket Sort and Heap Sort.\n",
    "\n",
    "Now I will look at the general characteristics of sorting algorithms."
   ]
  },
  {
   "cell_type": "markdown",
   "metadata": {},
   "source": [
    "## Stability\n",
    "\n",
    "An algorithm is said to be stable if it preserves the relative order of equal elements in the input array.\n",
    "Some algortihms are stable like Bubble sort, Insertion sort, Merge sort, Counting sort, Bucket sort and Timsort.  Some algorithms are not stable and the relative order even though the elements are equal or sorted the position could change.  Non stable algorithms include Selection sort, Quick sort (altough stable version do exist), Heap sort and Intro sort.\n",
    "\n",
    "This is another reason to have knowledge of your data firstly and what you want the algorithm to do.\n",
    "\n",
    "If the relative position of the input data is not important maybe we can take a look at the time efficiency and what can impact it.\n"
   ]
  },
  {
   "cell_type": "markdown",
   "metadata": {},
   "source": [
    "## Time Efficiency\n",
    "\n",
    "Time efficiency is defined in the main by the number of items to be sorted.\n",
    "\n",
    "Other factors to be considered in regard to time efficiency are:\n",
    "Are items pre sorted?\n",
    "Use fast memory like RAM or slower memory like an external hard drive.\n",
    "\n",
    "### Best Case / Worst Case / Average Case\n",
    "\n",
    "These are going to be based on how many elements are in the data array and how the algorithm works.  If the algorithm loops through every element.\n",
    "\n",
    "So the best case is that the data becomes sorted after 1 loop or pass by the algorithm.  This time complexity is O(n), n being the number of elements.\n",
    "\n",
    "\n"
   ]
  },
  {
   "cell_type": "markdown",
   "metadata": {},
   "source": [
    "## In Place Sorting\n",
    "\n",
    "In it most basic form in place sorting is when the data array is sorted within internal memory.  If data is very large or the data needs to be sorted externally of the array, external memory will be sued such as an external hard disc drive or cd or some other storage device.\n",
    "\n",
    "When all data is placed in memory and sorted, this is known as in place sorting.  No extra memory is required.  If memory is a problem then an algorithm that uses external memory might be a better option.\n",
    "\n",
    "Algorithms that are in place sorting algorithms are: Insertion sort and Selection sort.\n",
    "\n",
    "Algorithms that use extra memory and are therefore not in place sorting algorithms are: Merge sort."
   ]
  },
  {
   "cell_type": "markdown",
   "metadata": {},
   "source": [
    "## Comparator Functions\n",
    "\n",
    "In order to sort our array we need to have a way of telling if an element of the array need to move or stay in its position.  We use comparator functions to tell if an element is out of order with another elelment and consequently move it or keep its position.\n",
    "\n",
    "By comparator function we mean comparing one element to another, one element is less than, equal to or greater than another element. "
   ]
  },
  {
   "cell_type": "markdown",
   "metadata": {},
   "source": [
    "## Suitability\n",
    "\n",
    "The sorting algorithm must be suitable for the sorting task required.\n",
    "\n",
    "Consider the strengths and weaknesses of the specific sorting algorithm before you choose it.\n",
    "\n",
    "Suitability becomes more relevant when the data becomes large or at least when the data to be sorted goes over 10,000 elements in size.  At this size algorithms like Bubblesort will take much longer.\n",
    "\n",
    "\n",
    "\n"
   ]
  },
  {
   "cell_type": "markdown",
   "metadata": {},
   "source": [
    "# <u>Sorting Algorithms</u>"
   ]
  },
  {
   "cell_type": "markdown",
   "metadata": {},
   "source": [
    "## Bubble Sort"
   ]
  },
  {
   "cell_type": "markdown",
   "metadata": {},
   "source": [
    "### How the algorithm works\n",
    "\n",
    "As stated above Bubble Sort is a comparison based algorithm.  It is also one fo the simplest sorting algorithms.\n",
    "In Bubble Sort the first number, position [0] is compared to the second number, position [1], and if they are not in order they are swapped, then it compares the second number position [1] with the third number position [2].  If they are in order it moves on to compare position [2]  and position [3].  If position [1] and position [2] were not in order they swap position and so on through n numbers.\n",
    "\n",
    "The algorithm carries on comparing the numbers and the largest number will move through the array, left to right, like a bubble would move up through a drink.\n",
    "\n",
    "After the first pass the largest number is in the correct position, n'th position.  The algorithm then moves through the array again, comparing numbers with the number beside them.  After the second pass the second largest number is in position n-1.  It continues this until the array is sorted.\n",
    "\n",
    "The code I have below for this algorithm is from the following website.\n",
    "http://interactivepython.org/courselib/static/pythonds/SortSearch/TheBubbleSort.html\n",
    "\n",
    "After reading about bubble sort on interactivepython I then put the code through this visualise website to see it in action. http://www.pythontutor.com/visualize.html#mode=edit"
   ]
  },
  {
   "cell_type": "markdown",
   "metadata": {},
   "source": [
    "Bubble Sort Example\n",
    "\n",
    "Array of (6,5,1,3,2,4)\n",
    "\n",
    "(6,5,1,3,2,4)  \n",
    "First Pass   \n",
    "(5,6,1,3,2,4) \t6 is greater than 5 so is swapped  \n",
    "(5,1,6,3,2,4)\t6 is greater than 1 so is swapped  \n",
    "(5,1,3,6,2,4\t6 is greater than 3 so is swapped  \n",
    "(5,1,3,2,6,4)\t6 is greater than 2 so is swapped  \n",
    "(5,1,3,2,4,6)\t6 is greater than 4 so is swapped, 6 is now in its correct position  \n",
    "\n",
    "Second Pass  \n",
    "(1,5,3,2,4,6)\t5 is greater than 1 so is swapped  \n",
    "(1,3,5,2,4,6)\t5 is greater than 3 so is swapped  \n",
    "(1,3,2,5,4,6)\t5 is greater than 2 so is swapped  \n",
    "(1,3,2,4,5,6)\t5 is greater than 4 so is swapped 5 is now in its correct position  \n",
    "\n",
    "Third Pass  \n",
    "(1,3,2,4,5,6) \t1 is less than 3 so they remain in their position  \n",
    "(1,2,3,4,5,6)\t3 is greater than 2 so is swapped  "
   ]
  },
  {
   "cell_type": "code",
   "execution_count": 1,
   "metadata": {},
   "outputs": [
    {
     "name": "stdout",
     "output_type": "stream",
     "text": [
      "[17, 20, 26, 31, 44, 54, 55, 77, 93]\n"
     ]
    }
   ],
   "source": [
    "def bubbleSort(alist):                        # defining the algorithm\n",
    "    for passnum in range(len(alist)-1,0,-1):  # giving the length of the array to passnum\n",
    "        for i in range(passnum):              # all in the range of passnum\n",
    "            if alist[i]>alist[i+1]:           # if element in i position is greater than the element in i+1 (next to it) then\n",
    "                temp = alist[i]               # call element in i position temp\n",
    "                alist[i] = alist[i+1]         # swap the positions \n",
    "                alist[i+1] = temp             # now call element in i+1 position temp and back to the start of the loop again\n",
    "\n",
    "alist = [54,26,93,17,77,31,44,55,20]\n",
    "bubbleSort(alist)\n",
    "print(alist)"
   ]
  },
  {
   "cell_type": "markdown",
   "metadata": {},
   "source": [
    "### Time Complexity\n",
    "\n",
    "#### Best / Worst / Average \n",
    "\n",
    "Bubble sort has a best time complexity of O(n) time, this being if the data was sorted in one pass.  It has a worst and average time complexity of O(n^2) that "
   ]
  },
  {
   "cell_type": "markdown",
   "metadata": {},
   "source": [
    "## Insertion Sort"
   ]
  },
  {
   "cell_type": "markdown",
   "metadata": {},
   "source": [
    "### How the algorithm works\n",
    "\n",
    "In this sort the algorithm loops through the array, moving each element at a time to its correct position.  It always has a sorted sublist.\n",
    "This algorithm is a stable algorithm and works well on small lists and nearly sorted lists (we will see this later with Heap sort).  It is very inefficient for large lists.\n",
    "\n",
    "The code I have below for this algorithms is from the following website http://interactivepython.org/courselib/static/pythonds/SortSearch/TheInsertionSort.html\n",
    "\n"
   ]
  },
  {
   "cell_type": "markdown",
   "metadata": {},
   "source": [
    "Insertion Sort Example\n",
    "\n",
    "This algorithm loops through the array, from element 1 to element n-1 moving each element into the correct position as it moves.\n",
    "\n",
    "Array of (6,5,1,3,2,4)\n",
    "\n",
    "(6,5,1,3,2,4) 6 stays where it is to start as it is in position 0\n",
    "(5,6,1,3,2,4) position [1] 5 moves before 6 as it is less than 6\n",
    "(1,5,6,3,2,4) position [2] 1 moves before 5 as it is less than 5 and 6\n",
    "(1,3,5,6,2,4) position [3] 3 moves before 5 and after 1 as it is greater than 1 and less than 5\n",
    "(1,2,3,5,6,4) position [4] 2 moves before 3 and after 1 as it is greater than 1 and less than 3\n",
    "(1,2,3,4,5,6) position [5] 4 moves before 5 and after 3 as it is greater than 3 and less than 5"
   ]
  },
  {
   "cell_type": "code",
   "execution_count": 2,
   "metadata": {},
   "outputs": [
    {
     "name": "stdout",
     "output_type": "stream",
     "text": [
      "[17, 20, 26, 31, 44, 54, 55, 77, 93]\n"
     ]
    }
   ],
   "source": [
    "def insertionSort(alist):                                 # defining the algorithm\n",
    "   for index in range(1,len(alist)):                      # starting a loop for the index between position 1 and the end\n",
    "\n",
    "     currentvalue = alist[index]                          # setting current value to the index position\n",
    "     position = index\n",
    "\n",
    "     while position>0 and alist[position-1]>currentvalue: # while loop to decide on swaps\n",
    "         alist[position]=alist[position-1]\n",
    "         position = position-1\n",
    "\n",
    "     alist[position]=currentvalue\n",
    "\n",
    "alist = [54,26,93,17,77,31,44,55,20]\n",
    "insertionSort(alist)\n",
    "print(alist)"
   ]
  },
  {
   "cell_type": "markdown",
   "metadata": {},
   "source": [
    "### Time Complexity\n",
    "\n",
    "#### Best / Worst / Average \n",
    "\n",
    "The best case time complexity of insertion sort is linear time, this is when the array is already sorted and there are no changes or inversions or swaps to be made.\n",
    "This algorithm has an average and worst case time complexity of (O) n ^ 2"
   ]
  },
  {
   "cell_type": "markdown",
   "metadata": {},
   "source": [
    "\n",
    "## Merge Sort\n"
   ]
  },
  {
   "cell_type": "markdown",
   "metadata": {},
   "source": [
    "\n",
    "\n",
    "\n",
    "Merge Sort is a divide and conqour algorithm and it was invented by John Von Neumann in 1945.  It is a stable sortign algorithm.\n",
    "\n",
    "The code for the algorithm below is from the following website. http://interactivepython.org/courselib/static/pythonds/SortSearch/TheMergeSort.html"
   ]
  },
  {
   "cell_type": "markdown",
   "metadata": {},
   "source": [
    "### How the algorithm works\n",
    "\n",
    "The algorithm is a recursive algorithm and splits the array into 2, a left half and a right half.  It continues to split the arrays until they have 1 or no elements, the base case in the recursion.  It then merges them back together sorted."
   ]
  },
  {
   "cell_type": "markdown",
   "metadata": {},
   "source": [
    "Merge Sort Example\n",
    "\n",
    "This algorithm is a divide and conquer algorithm\n",
    " \n",
    "Array of (6,5,1,3,2,4)\n",
    "\n",
    "First it splits the array in half depending on its length, This array is even so it is an even split. It continues to split until there are 0 or 1 element in the split array\n",
    "\n",
    "1st Left Split\n",
    "(6,5,1)\n",
    "\n",
    "1st Right Split\n",
    "(3,2,4)\n",
    "\n",
    "2nd Left Split\n",
    "(6)\t\t(5,1)\n",
    "\n",
    "3rd Left Split\n",
    "\n",
    "(5)\n",
    "\n",
    "(1)\n",
    "\n",
    "As this is at its base case it then merges these back together to start to reform the array again.\n",
    "\n",
    "1st Left Merge\n",
    "(1,5)\n",
    "\n",
    "2nd Left Merge\n",
    "(1,5,6)\n",
    "\n",
    "\n",
    "2nd Right Split\n",
    "(3)(2,4)\n",
    "\n",
    "3rd Right Split\n",
    "\n",
    "(2)\n",
    "\n",
    "(4)\n",
    "\n",
    "1st Right Merge\n",
    "\n",
    "(2,4)\n",
    "\n",
    "2nd Right Merge\n",
    "\n",
    "(2,3,4)\n",
    "\n",
    "It then merges the 2 lists Left (1,5,6) and right (2,3,4)\n",
    "Into\n",
    "(1,2,3,4,5,6)"
   ]
  },
  {
   "cell_type": "code",
   "execution_count": 3,
   "metadata": {},
   "outputs": [
    {
     "name": "stdout",
     "output_type": "stream",
     "text": [
      "[17, 20, 26, 31, 44, 54, 55, 77, 93]\n"
     ]
    }
   ],
   "source": [
    "def mergeSort(alist):                                           # defining the algorithm\n",
    "#    print(\"Splitting \",alist)\n",
    "    if len(alist)>1:                                            # if the list is greater than 1 then\n",
    "        mid = len(alist)//2                                     # call the middle element mid (get by the length divided by 2)\n",
    "        lefthalf = alist[:mid]                                  # call lefthalf everythging up to mid\n",
    "        righthalf = alist[mid:]                                 # call the right half everything from mid to the end\n",
    " \n",
    "        mergeSort(lefthalf)                                     # call mergesort algorithm on left half\n",
    "        mergeSort(righthalf)                                    # call mergesort algorithm on right half  \n",
    "\n",
    "        i=0\n",
    "        j=0\n",
    "        k=0\n",
    "        while i < len(lefthalf) and j < len(righthalf):         # 4 while loops make swaps put elements into correct position\n",
    "            if lefthalf[i] < righthalf[j]:\n",
    "                alist[k]=lefthalf[i]\n",
    "                i=i+1\n",
    "            else:\n",
    "                alist[k]=righthalf[j]\n",
    "                j=j+1\n",
    "            k=k+1\n",
    "\n",
    "        while i < len(lefthalf):\n",
    "            alist[k]=lefthalf[i]\n",
    "            i=i+1\n",
    "            k=k+1\n",
    "\n",
    "        while j < len(righthalf):\n",
    "            alist[k]=righthalf[j]\n",
    "            j=j+1\n",
    "            k=k+1\n",
    "#    print(\"Merging \",alist)\n",
    "\n",
    "alist = [54,26,93,17,77,31,44,55,20]\n",
    "mergeSort(alist)\n",
    "print(alist)"
   ]
  },
  {
   "cell_type": "markdown",
   "metadata": {},
   "source": [
    "### Time Complexity\n",
    "\n",
    "#### Best / Worst / Average \n",
    "\n",
    "This algorithm has a similar run time for best average and worst case time complexity.  It has a worst case time complexity of O (n log(n)).\n",
    "\n",
    "It is a very good all round sorting algorithm."
   ]
  },
  {
   "cell_type": "markdown",
   "metadata": {},
   "source": [
    "\n",
    "## Bucket Sort"
   ]
  },
  {
   "cell_type": "markdown",
   "metadata": {},
   "source": [
    "### How the algorithm works\n",
    "\n",
    "Bucket sort is a stable, divide and conquer algorithm.  The algorithm divides the array into buckets.  It works best when the array is evenly distributed and therefore the buckets will also be evenly filled after division.  This means that no one bucket is doing too much sorting.  \n",
    "\n",
    "For example with a numbered array.\n",
    "- Depending on the largest value and length of the array it may put the values in buckets of size 0-9, 10-19, 20-29 etc etc\n",
    "- The size for the buckets is set by dividing the largest number by the length of the data.  \n",
    "- The data is then put into \"buckets\" via empty lists.\n",
    "- Each bucket is then sorted by insertion sort and merged back with the other sorted buckets.\n"
   ]
  },
  {
   "cell_type": "markdown",
   "metadata": {},
   "source": [
    "Bucket Sort Example\n",
    "\n",
    "(6,5,1,3,2,4)\n",
    "\n",
    "Bucket 1\n",
    "6,5 goes to 5,6\n",
    "\n",
    "Bucket 2\n",
    "1,3,2,4 goes to 1,2,3,4\n",
    "\n",
    "\n",
    "Now the buckets merge back into a sorted array\n",
    "1,2,3,4 are merged with 5,6 giving the sorted arry\n",
    "\n",
    "(1,2,3,4,5,6)"
   ]
  },
  {
   "cell_type": "code",
   "execution_count": 4,
   "metadata": {},
   "outputs": [
    {
     "name": "stdout",
     "output_type": "stream",
     "text": [
      "[17, 20, 26, 31, 44, 54, 55, 77, 93]\n"
     ]
    }
   ],
   "source": [
    "def bucketSort(alist):                           ## defining the algorithm\n",
    "    largest = max(alist)                         # set the biggest number to largest\n",
    "    length = len(alist)                          # set the size/number of the array to length\n",
    "    size = largest/length                        # set size to the largest divided b the length\n",
    " \n",
    "    buckets = [[] for _ in range(length)]        # set empty arrays to buckets\n",
    "    for i in range(length):                      # loop through the length of the array\n",
    "        j = int(alist[i]/size)                   # putting elements into seperate buckets depending on sizes\n",
    "        if j != length:\n",
    "            buckets[j].append(alist[i])\n",
    "        else:\n",
    "            buckets[length - 1].append(alist[i])\n",
    " \n",
    "    for i in range(length):                     # for all the buckets\n",
    "        insertionSort(buckets[i])               # call insertion sort to finish the sort\n",
    " \n",
    "    result = []                                 # an empty result arry to be filled when the list is sorted\n",
    "    for i in range(length):                     # for all the buckets\n",
    "        result = result + buckets[i]            # fill the result array\n",
    " \n",
    "    return result\n",
    " \n",
    "def insertionSort(alist):                      # Insertion sort algorithm\n",
    "    for i in range(1, len(alist)):\n",
    "        temp = alist[i]\n",
    "        j = i - 1\n",
    "        while (j >= 0 and temp < alist[j]):\n",
    "            alist[j + 1] = alist[j]\n",
    "            j = j - 1\n",
    "        alist[j + 1] = temp\n",
    " \n",
    " \n",
    "alist = [54,26,93,17,77,31,44,55,20]\n",
    "bucketSort(alist)\n",
    "print(bucketSort(alist))"
   ]
  },
  {
   "cell_type": "markdown",
   "metadata": {},
   "source": [
    "### Time Complexity\n",
    "\n",
    "#### Best / Worst / Average \n",
    "\n",
    "This algorithm has a worst case time complexity of O (n^2).  Bucket Sort is useful when there are a uniform range of values to be sorted.  It can be at the worst case if the range is not uniform and there are many values  together meaning that many values will go into one bucket, this slows down their sort as each bucket is sorted individually using Insertion Sort.\n"
   ]
  },
  {
   "cell_type": "markdown",
   "metadata": {},
   "source": [
    "\n",
    "## Heap Sort\n"
   ]
  },
  {
   "cell_type": "markdown",
   "metadata": {},
   "source": [
    "## How the algorithm works\n",
    "\n",
    "Heap Sort was developed by JWJ Williams in 1964.  It is an efficient algorithm.  However it is not a stable sorting algorithm.  It uses binary tree build of the array to sort it.  Firstly it makes the array into a binary tree and then sorts the nodes so that the largest element becomes the parent node on the top.\n",
    "\n",
    "The code for this algorithm below is from the following website https://www.programiz.com/dsa/heap-sort."
   ]
  },
  {
   "cell_type": "markdown",
   "metadata": {},
   "source": [
    "Heap Sort Example\n",
    "\n",
    "Firstly the algorithm makes a binary tree out of the array\n",
    "\n",
    "(6,5,1,3,2,4)\n",
    "\n",
    "So here the parent node is 6\n",
    "\n",
    "Then the next pair of elements are the children of the parent node 5,1\n",
    "\n",
    "3 and 2 are the children of 5 and 4 is the child of 1\n",
    "\n",
    "![BinaryTree](Binary tree.PNG)\n",
    "\n",
    "Here the parent node is the largest so that does not have to change, 1 and 4 have to swap places and it is in a complete binary tree.\n",
    "\n"
   ]
  },
  {
   "cell_type": "code",
   "execution_count": 5,
   "metadata": {},
   "outputs": [
    {
     "name": "stdout",
     "output_type": "stream",
     "text": [
      "[17, 20, 26, 31, 44, 55, 77, 93, 54]\n"
     ]
    }
   ],
   "source": [
    "def heapify(alist, n, i):\n",
    "                                                          # Find largest among root and children\n",
    "    largest = i                                           # set the largest in the array to i\n",
    "    l = 2 * i + 1                                         # set l and r to the children of i\n",
    "    r = 2 * i + 2                                         # l and r are position i+1 and i+2\n",
    "    if l < n and alist[i] < alist[l]:                     # now check to see which is the largest \n",
    "        largest = l                                       # between the root and the children  \n",
    "    if r < n and alist[largest] < alist[r]:\n",
    "        largest = r\n",
    "                                                          # If root is not largest, swap with largest and continue heapifying\n",
    "    if largest != i:\n",
    "        alist[i],alist[largest] = alist[largest],alist[i]\n",
    "        heapify(alist, n, largest)\n",
    "def heapSort(alist):\n",
    "    n = len(alist)\n",
    "                                                          # Build max heap\n",
    "    for i in range(n, 0, -1):\n",
    "        heapify(alist, n, i)\n",
    "    for i in range(n-1, 0, -1):\n",
    "                                                          # swap\n",
    "        alist[i], alist[0] = alist[0], alist[i]  \n",
    "                                                          # heapify root element\n",
    "        heapify(alist, i, 0)\n",
    " \n",
    "\n",
    "alist = [54,26,93,17,77,31,44,55,20]\n",
    "heapSort(alist)\n",
    "print(alist)"
   ]
  },
  {
   "cell_type": "markdown",
   "metadata": {},
   "source": [
    "### Time Complexity\n",
    "\n",
    "#### Best / Worst / Average \n",
    "\n",
    "The Best Worst and Average times for Heap sort are very similar.  The time complexity of Heap sort is O (n log (n))."
   ]
  },
  {
   "cell_type": "markdown",
   "metadata": {},
   "source": [
    "# <u>Implementation and Benchmarking</u>"
   ]
  },
  {
   "cell_type": "markdown",
   "metadata": {},
   "source": [
    "Now after looking at the algorithms above we will see how they preform in sorting arrays of different sizes.\n",
    "Firstly I will import a number of python mudules to time, test and plot the findings."
   ]
  },
  {
   "cell_type": "code",
   "execution_count": 6,
   "metadata": {},
   "outputs": [],
   "source": [
    "import time\n",
    "import statistics\n",
    "import numpy as np  # importing numpy as np\n",
    "import pandas as pd # importing pandas as pd\n",
    "import matplotlib.pyplot as plt\n",
    "import seaborn as sns"
   ]
  },
  {
   "cell_type": "markdown",
   "metadata": {},
   "source": [
    "### Data Array\n",
    "For my data arrays I will use numpy's random randint number generator.\n",
    "\n",
    "To try to have the benchmarking as fair as possible I am using a random seed generator so that all the arrays to be sorted are the same.  The arrays used in the sorting algorithms are below.  They range in size from 100 elements to 50,000 elements."
   ]
  },
  {
   "cell_type": "code",
   "execution_count": 7,
   "metadata": {},
   "outputs": [],
   "source": [
    "np.random.seed(1)                                # seeding random on seed 1 so that all the arrays are the same\n",
    "\n",
    "a = np.random.randint(200000, size=100)          # array of size 100\n",
    "b = np.random.randint(200000, size=250)          # array of size 250\n",
    "c = np.random.randint(200000, size=500)          # array of size 500\n",
    "d = np.random.randint(200000, size=750)          # array of size 750\n",
    "e = np.random.randint(200000, size=1000)         # array of size 1000\n",
    "f = np.random.randint(200000, size=2500)         # array of size 2500\n",
    "g = np.random.randint(200000, size=5000)         # array of size 5000\n",
    "h = np.random.randint(200000, size=7500)         # array of size 7500\n",
    "i = np.random.randint(200000, size=10000)        # array of size 10000\n",
    "j = np.random.randint(200000, size=15000)        # array of size 15000\n",
    "k = np.random.randint(200000, size=20000)        # array of size 20000\n",
    "l = np.random.randint(200000, size=30000)        # array of size 30000\n",
    "m = np.random.randint(200000, size=50000)        # array of size 50000\n",
    "\n",
    "sizes = [100,250,500,750,1000,2500,5000,7500,10000,15000,20000,30000,50000]"
   ]
  },
  {
   "cell_type": "markdown",
   "metadata": {},
   "source": [
    "I have seperate python program files that will time the algorithms sorting of each array in turn, there are 10 runs for each array and an average in milliseconds is then produced for that array.  A list of times wil be sent to this file and I will use these timings to create a dataframe using pandas.\n",
    " \n",
    "To call the times for the sorting algorithms sorting of the arrays I will use %run command followed by the file name. "
   ]
  },
  {
   "cell_type": "code",
   "execution_count": 13,
   "metadata": {},
   "outputs": [
    {
     "name": "stdout",
     "output_type": "stream",
     "text": [
      "[3.989, 11.968, 47.872, 115.689, 199.465, 1401.255, 5053.491, 11328.716, 20112.234, 49078.796, 91797.668, 185894.008, 530873.84]\n"
     ]
    }
   ],
   "source": [
    "%run benchmarkbubble.py  \n",
    "# https://stackoverflow.com/questions/21034373/how-to-load-edit-run-save-text-files-py-into-an-ipython-notebook-cell\n",
    "\n",
    "print(bubblebench)"
   ]
  },
  {
   "cell_type": "code",
   "execution_count": 12,
   "metadata": {},
   "outputs": [
    {
     "name": "stdout",
     "output_type": "stream",
     "text": [
      "[0.997, 4.951, 20.944, 49.868, 92.752, 570.476, 2287.884, 5226.068, 9158.515, 20579.981, 36560.297, 83951.57, 251511.5]\n"
     ]
    }
   ],
   "source": [
    "%run benchmarkinsertion.py\n",
    "\n",
    "print(insertionbench)"
   ]
  },
  {
   "cell_type": "code",
   "execution_count": 10,
   "metadata": {},
   "outputs": [
    {
     "name": "stdout",
     "output_type": "stream",
     "text": [
      "[0.999, 2.991, 1.995, 3.99, 7.009, 20.95, 42.903, 52.824, 73.846, 129.623, 169.551, 252.363, 444.786]\n"
     ]
    }
   ],
   "source": [
    "%run benchmarkmerge.py\n",
    "\n",
    "print(mergebench)"
   ]
  },
  {
   "cell_type": "code",
   "execution_count": 11,
   "metadata": {},
   "outputs": [
    {
     "name": "stdout",
     "output_type": "stream",
     "text": [
      "[0.992, 3.993, 1.994, 2.992, 4.958, 15.958, 76.795, 104.754, 182.477, 425.864, 762.966, 1706.444, 4921.806]\n"
     ]
    }
   ],
   "source": [
    "%run benchmarkbucket.py\n",
    "\n",
    "print(bucketbench)"
   ]
  },
  {
   "cell_type": "code",
   "execution_count": 14,
   "metadata": {},
   "outputs": [
    {
     "name": "stdout",
     "output_type": "stream",
     "text": [
      "[1.994, 2.992, 3.989, 8.975, 8.975, 31.915, 56.848, 89.761, 123.705, 194.48, 314.16, 447.802, 818.81]\n"
     ]
    }
   ],
   "source": [
    "%run benchmarkheap.py\n",
    "\n",
    "print(heapbench)"
   ]
  },
  {
   "cell_type": "markdown",
   "metadata": {},
   "source": [
    "Over the course of the project I looked at the following websites for help with dataframes:"
   ]
  },
  {
   "cell_type": "code",
   "execution_count": 8,
   "metadata": {},
   "outputs": [],
   "source": [
    "# https://stackoverflow.com/questions/17091769/python-pandas-fill-a-dataframe-row-by-row\n",
    "# https://pandas.pydata.org/pandas-docs/stable/user_guide/options.html#overview\n",
    "# https://stackoverflow.com/questions/42202872/how-to-convert-list-to-row-dataframe-with-pandas\n",
    "# https://www.tutorialspoint.com/python_pandas/python_pandas_dataframe.htm\n",
    "# https://stackoverflow.com/questions/39941321/create-dataframe-from-multiple-series\n",
    "# https://stackoverflow.com/questions/16301546/swapping-axes-in-pandas"
   ]
  },
  {
   "cell_type": "code",
   "execution_count": 21,
   "metadata": {},
   "outputs": [
    {
     "name": "stdout",
     "output_type": "stream",
     "text": [
      "       Bubblesort  Insertionsort  Mergesort  Bucketsort  Heapsort\n",
      "Size                                                             \n",
      "100         3.989          0.997      0.999       0.992     1.994\n",
      "250        11.968          4.951      2.991       3.993     2.992\n",
      "500        47.872         20.944      1.995       1.994     3.989\n",
      "750       115.689         49.868      3.990       2.992     8.975\n",
      "1000      199.465         92.752      7.009       4.958     8.975\n",
      "2500     1401.255        570.476     20.950      15.958    31.915\n",
      "5000     5053.491       2287.884     42.903      76.795    56.848\n",
      "7500    11328.716       5226.068     52.824     104.754    89.761\n",
      "10000   20112.234       9158.515     73.846     182.477   123.705\n",
      "15000   49078.796      20579.981    129.623     425.864   194.480\n",
      "20000   91797.668      36560.297    169.551     762.966   314.160\n",
      "30000  185894.008      83951.570    252.363    1706.444   447.802\n",
      "50000  530873.840     251511.500    444.786    4921.806   818.810\n"
     ]
    }
   ],
   "source": [
    "benchmark_dataframe = pd.DataFrame({'Size':sizes,\n",
    "                                    'Bubblesort':bubblebench, \n",
    "                                    'Insertionsort': insertionbench,\n",
    "                                    'Mergesort':mergebench, \n",
    "                                    'Bucketsort':bucketbench, \n",
    "                                    'Heapsort':heapbench})\n",
    "\n",
    "benchmark_dataframe = benchmark_dataframe.set_index(\"Size\")\n",
    "print(benchmark_dataframe)"
   ]
  },
  {
   "cell_type": "code",
   "execution_count": 22,
   "metadata": {},
   "outputs": [
    {
     "data": {
      "image/png": "[encoded data removed]",
      "text/plain": [
       "<Figure size 1080x720 with 1 Axes>"
      ]
     },
     "metadata": {},
     "output_type": "display_data"
    }
   ],
   "source": [
    "benchmark_dataframe.plot()\n",
    "sns.set(rc={'figure.figsize':(15,10)})\n",
    "plt.title(\"Benchmark Sorting Algorithms\")\n",
    "plt.xlabel(\"Length of list (number)\")\n",
    "plt.ylabel(\"Time taken (milliseconds)\")\n",
    "plt.show()"
   ]
  },
  {
   "cell_type": "code",
   "execution_count": 17,
   "metadata": {},
   "outputs": [
    {
     "data": {
      "text/html": [
       "<div>\n",
       "<style scoped>\n",
       "    .dataframe tbody tr th:only-of-type {\n",
       "        vertical-align: middle;\n",
       "    }\n",
       "\n",
       "    .dataframe tbody tr th {\n",
       "        vertical-align: top;\n",
       "    }\n",
       "\n",
       "    .dataframe thead th {\n",
       "        text-align: right;\n",
       "    }\n",
       "</style>\n",
       "<table border=\"1\" class=\"dataframe\">\n",
       "  <thead>\n",
       "    <tr style=\"text-align: right;\">\n",
       "      <th></th>\n",
       "      <th>Bubblesort</th>\n",
       "      <th>Insertionsort</th>\n",
       "      <th>Mergesort</th>\n",
       "      <th>Bucketsort</th>\n",
       "      <th>Heapsort</th>\n",
       "    </tr>\n",
       "  </thead>\n",
       "  <tbody>\n",
       "    <tr>\n",
       "      <th>count</th>\n",
       "      <td>13.000000</td>\n",
       "      <td>13.000000</td>\n",
       "      <td>13.000000</td>\n",
       "      <td>13.000000</td>\n",
       "      <td>13.000000</td>\n",
       "    </tr>\n",
       "    <tr>\n",
       "      <th>mean</th>\n",
       "      <td>68916.845462</td>\n",
       "      <td>31539.677154</td>\n",
       "      <td>92.602308</td>\n",
       "      <td>631.691769</td>\n",
       "      <td>161.877385</td>\n",
       "    </tr>\n",
       "    <tr>\n",
       "      <th>std</th>\n",
       "      <td>148894.717921</td>\n",
       "      <td>70267.991297</td>\n",
       "      <td>131.083957</td>\n",
       "      <td>1377.274849</td>\n",
       "      <td>240.596455</td>\n",
       "    </tr>\n",
       "    <tr>\n",
       "      <th>min</th>\n",
       "      <td>3.989000</td>\n",
       "      <td>0.997000</td>\n",
       "      <td>0.999000</td>\n",
       "      <td>0.992000</td>\n",
       "      <td>1.994000</td>\n",
       "    </tr>\n",
       "    <tr>\n",
       "      <th>25%</th>\n",
       "      <td>115.689000</td>\n",
       "      <td>49.868000</td>\n",
       "      <td>3.990000</td>\n",
       "      <td>3.993000</td>\n",
       "      <td>8.975000</td>\n",
       "    </tr>\n",
       "    <tr>\n",
       "      <th>50%</th>\n",
       "      <td>5053.491000</td>\n",
       "      <td>2287.884000</td>\n",
       "      <td>42.903000</td>\n",
       "      <td>76.795000</td>\n",
       "      <td>56.848000</td>\n",
       "    </tr>\n",
       "    <tr>\n",
       "      <th>75%</th>\n",
       "      <td>49078.796000</td>\n",
       "      <td>20579.981000</td>\n",
       "      <td>129.623000</td>\n",
       "      <td>425.864000</td>\n",
       "      <td>194.480000</td>\n",
       "    </tr>\n",
       "    <tr>\n",
       "      <th>max</th>\n",
       "      <td>530873.840000</td>\n",
       "      <td>251511.500000</td>\n",
       "      <td>444.786000</td>\n",
       "      <td>4921.806000</td>\n",
       "      <td>818.810000</td>\n",
       "    </tr>\n",
       "  </tbody>\n",
       "</table>\n",
       "</div>"
      ],
      "text/plain": [
       "          Bubblesort  Insertionsort   Mergesort   Bucketsort    Heapsort\n",
       "count      13.000000      13.000000   13.000000    13.000000   13.000000\n",
       "mean    68916.845462   31539.677154   92.602308   631.691769  161.877385\n",
       "std    148894.717921   70267.991297  131.083957  1377.274849  240.596455\n",
       "min         3.989000       0.997000    0.999000     0.992000    1.994000\n",
       "25%       115.689000      49.868000    3.990000     3.993000    8.975000\n",
       "50%      5053.491000    2287.884000   42.903000    76.795000   56.848000\n",
       "75%     49078.796000   20579.981000  129.623000   425.864000  194.480000\n",
       "max    530873.840000  251511.500000  444.786000  4921.806000  818.810000"
      ]
     },
     "execution_count": 17,
     "metadata": {},
     "output_type": "execute_result"
    }
   ],
   "source": [
    "benchmark_dataframe.describe()"
   ]
  },
  {
   "cell_type": "code",
   "execution_count": 18,
   "metadata": {},
   "outputs": [
    {
     "name": "stdout",
     "output_type": "stream",
     "text": [
      "       Insertionsort  Mergesort  Bucketsort  Heapsort\n",
      "Size                                                 \n",
      "100            0.997      0.999       0.992     1.994\n",
      "250            4.951      2.991       3.993     2.992\n",
      "500           20.944      1.995       1.994     3.989\n",
      "750           49.868      3.990       2.992     8.975\n",
      "1000          92.752      7.009       4.958     8.975\n",
      "2500         570.476     20.950      15.958    31.915\n",
      "5000        2287.884     42.903      76.795    56.848\n",
      "7500        5226.068     52.824     104.754    89.761\n",
      "10000       9158.515     73.846     182.477   123.705\n",
      "15000      20579.981    129.623     425.864   194.480\n",
      "20000      36560.297    169.551     762.966   314.160\n",
      "30000      83951.570    252.363    1706.444   447.802\n",
      "50000     251511.500    444.786    4921.806   818.810\n"
     ]
    }
   ],
   "source": [
    "benchmark_dataframe = pd.DataFrame({'Size':sizes,\n",
    "                                    'Insertionsort': insertionbench,\n",
    "                                    'Mergesort':mergebench, \n",
    "                                    'Bucketsort':bucketbench, \n",
    "                                    'Heapsort':heapbench})\n",
    "\n",
    "benchmark_dataframe = benchmark_dataframe.set_index(\"Size\")\n",
    "print(benchmark_dataframe)"
   ]
  },
  {
   "cell_type": "code",
   "execution_count": 19,
   "metadata": {},
   "outputs": [
    {
     "data": {
      "image/png": "[encoded data removed]",
      "text/plain": [
       "<Figure size 1080x720 with 1 Axes>"
      ]
     },
     "metadata": {},
     "output_type": "display_data"
    }
   ],
   "source": [
    "# without Bubble sort as it looks like it is skewing the graph?\n",
    "benchmark_dataframe.plot()\n",
    "sns.set(rc={'figure.figsize':(15,10)})\n",
    "plt.title(\"Benchmark Sorting Algorithms\")\n",
    "plt.xlabel(\"Length of list (number)\")\n",
    "plt.ylabel(\"Time taken (milliseconds)\")\n",
    "plt.show()"
   ]
  },
  {
   "cell_type": "code",
   "execution_count": 23,
   "metadata": {},
   "outputs": [
    {
     "name": "stdout",
     "output_type": "stream",
     "text": [
      "       Mergesort  Bucketsort  Heapsort\n",
      "Size                                  \n",
      "100        0.999       0.992     1.994\n",
      "250        2.991       3.993     2.992\n",
      "500        1.995       1.994     3.989\n",
      "750        3.990       2.992     8.975\n",
      "1000       7.009       4.958     8.975\n",
      "2500      20.950      15.958    31.915\n",
      "5000      42.903      76.795    56.848\n",
      "7500      52.824     104.754    89.761\n",
      "10000     73.846     182.477   123.705\n",
      "15000    129.623     425.864   194.480\n",
      "20000    169.551     762.966   314.160\n",
      "30000    252.363    1706.444   447.802\n",
      "50000    444.786    4921.806   818.810\n"
     ]
    }
   ],
   "source": [
    "benchmark_dataframe = pd.DataFrame({'Size':sizes,\n",
    "                                    'Mergesort':mergebench, \n",
    "                                    'Bucketsort':bucketbench, \n",
    "                                    'Heapsort':heapbench})\n",
    "\n",
    "benchmark_dataframe = benchmark_dataframe.set_index(\"Size\")\n",
    "print(benchmark_dataframe)"
   ]
  },
  {
   "cell_type": "code",
   "execution_count": 24,
   "metadata": {},
   "outputs": [
    {
     "data": {
      "image/png": "[encoded data removed]",
      "text/plain": [
       "<Figure size 1080x720 with 1 Axes>"
      ]
     },
     "metadata": {},
     "output_type": "display_data"
    }
   ],
   "source": [
    "# without Bubble sort and Insertion sort\n",
    "benchmark_dataframe.plot()\n",
    "sns.set(rc={'figure.figsize':(15,10)})\n",
    "plt.title(\"Benchmark Sorting Algorithms\")\n",
    "plt.xlabel(\"Length of list (number)\")\n",
    "plt.ylabel(\"Time taken (milliseconds)\")\n",
    "plt.show()"
   ]
  },
  {
   "cell_type": "markdown",
   "metadata": {},
   "source": [
    "## <u>Conclusion</u>\n",
    "\n",
    "In conclusion it is very important to know the data that needs to be sorted, what you need the sorting algorithm to do.  Do you want to know how many of an element are in the data, or if stability is important or is speed important.\n",
    "\n",
    "Once you go to bigger sizes of data you really need to pick your algorithm to suit your data and your sort.  When your data is under 10,000 elements, the differences in timings are negligible but when you go over 10,000 elements you see magnitudes of difference of the time taken.  This is especially shown with Bubble sort.\n",
    "\n"
   ]
  }
 ],
 "metadata": {
  "kernelspec": {
   "display_name": "Python 3",
   "language": "python",
   "name": "python3"
  },
  "language_info": {
   "codemirror_mode": {
    "name": "ipython",
    "version": 3
   },
   "file_extension": ".py",
   "mimetype": "text/x-python",
   "name": "python",
   "nbconvert_exporter": "python",
   "pygments_lexer": "ipython3",
   "version": "3.7.3"
  }
 },
 "nbformat": 4,
 "nbformat_minor": 2
}
