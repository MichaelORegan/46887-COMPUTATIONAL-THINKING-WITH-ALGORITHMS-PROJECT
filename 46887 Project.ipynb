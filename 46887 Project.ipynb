{
 "cells": [
  {
   "cell_type": "markdown",
   "metadata": {
    "collapsed": true
   },
   "source": [
    "# <u>Introduction</u>"
   ]
  },
  {
   "cell_type": "markdown",
   "metadata": {},
   "source": [
    "No one algorithm is going to be able to cope efficiently with every sort we want it to preform, therefore it is imperative to know about many different sorting algorithms so that we are in a position to make an informed decision about what one will preform best given our set of data to be sorted.\n",
    "\n"
   ]
  },
  {
   "cell_type": "markdown",
   "metadata": {},
   "source": [
    "One type of sorting algorithm is an algorithm that compares each elelment to another element.  These sorting algorithms are called comparison based sorting algorithms.  They are called comparison sorting algorithms because they sort the data by comparing the elements.\n",
    "The following algorithms are comparison sorting algorithms: Bubble Sort, Selection Sort, Insertion Sort, Merge Sort, Quicksort, Heapsort"
   ]
  },
  {
   "cell_type": "markdown",
   "metadata": {},
   "source": [
    "Another type of sorting algorithm is an algorithm that does not compare each element to another element.  These sorting algorithms are called non comparison sorting algorithms.\n",
    "The following sorting algorithms are non comparison based sorting algorithms: Counting Sort and Bucket Sort."
   ]
  },
  {
   "cell_type": "markdown",
   "metadata": {},
   "source": [
    "There is a third type of sorting algorithm and these sorting algorithms are called hybrid sorting algorithms.  They take 2 or more sorting algorithms and make them into 1 sorting algorithm.  \n",
    "The following sorting algorithms are hybrid sorting algorithms: Timsort and Introsort."
   ]
  },
  {
   "cell_type": "markdown",
   "metadata": {},
   "source": [
    "There are many other sorting algorithms in existence than I have listed above and for this project I am going to concentrate on the following five algortihms:  Bubble Sort, Insertion Sort, Merge Sort, Bucket Sort and Heap Sort.\n",
    "\n",
    "Now I will look at the general characteristics of sorting algorithms."
   ]
  },
  {
   "cell_type": "markdown",
   "metadata": {},
   "source": [
    "## Stability\n",
    "\n",
    "An algorithm is said to be stable if it preserves the relative order of equal elements in the input array.\n",
    "Some algortihms are stable like Bubble sort, Insertion sort, Merge sort, Counting sort, Bucket sort and Timsort.  Some algorithms are not stable and the relative order even though the elements are equal or sorted the position could change.  Non stable algorithms include Selection sort, Quick sort (altough stable version do exist), Heap sort and Intro sort.\n",
    "\n",
    "This is another reason to have knowledge of your data firstly and what you want the algorithm to do.\n",
    "\n",
    "If the relative position of the input data is not important maybe we can take a look at the time efficiency and what can impact it.\n"
   ]
  },
  {
   "cell_type": "markdown",
   "metadata": {},
   "source": [
    "## Time Efficiency\n",
    "\n",
    "Time efficiency is defined in the main by the number of items to be sorted.\n",
    "\n",
    "Other factors to be considered in regard to time efficiency are:\n",
    "Are items pre sorted?\n",
    "Use fast memory like RAM or slower memory like an external hard drive.\n",
    "\n",
    "### Best Case / Worst Case / Average Case\n",
    "\n",
    "These are going to be based on how many elements are in the data array and how the algorithm works.  If the algorithm loops through every element.\n",
    "\n",
    "So the best case is that the data becomes sorted after 1 loop or pass by the algorithm.  This time complexity is O(n), n being the number of elements.\n",
    "\n",
    "\n"
   ]
  },
  {
   "cell_type": "markdown",
   "metadata": {},
   "source": [
    "## In Place Sorting\n",
    "\n",
    "In it most basic form in place sorting is when the data array is sorted within internal memory.  If data is very large or the data needs to be sorted externally of the array, external memory will be sued such as an external hard disc drive or cd or some other storage device.\n",
    "\n",
    "When all data is placed in memory and sorted, this is known as in place sorting.  No extra memory is required.  If memory is a problem then an algorithm that uses external memory might be a better option.\n",
    "\n",
    "Algorithms that are in place sorting algorithms are: Insertion sort and Selection sort.\n",
    "\n",
    "Algorithms that use extra memory and are therefore not in place sorting algorithms are: Merge sort."
   ]
  },
  {
   "cell_type": "markdown",
   "metadata": {},
   "source": [
    "## Comparator Functions\n",
    "\n",
    "In order to sort our array we need to have a way of telling if an element of the array need to move or stay in its position.  We use comparator functions to tell if an element is out of order with another elelment and consequently move it or keep its position.\n",
    "\n",
    "By comparator function we mean comparing one element to another, one element is less than, equal to or greater than another element. "
   ]
  },
  {
   "cell_type": "markdown",
   "metadata": {},
   "source": [
    "## Suitability\n",
    "\n",
    "The sorting algorithm must be suitable for the sorting task required.\n",
    "\n",
    "Consider the strengths and weaknesses of the specific sorting algorithm before you choose it.\n",
    "\n",
    "Suitability becomes more relevant when the data becomes large or at least when the data to be sorted goes over 10,000 elements in size.  At this size algorithms like Bubblesort will take much longer.\n",
    "\n",
    "\n",
    "\n"
   ]
  },
  {
   "cell_type": "markdown",
   "metadata": {},
   "source": [
    "# <u>Sorting Algorithms</u>"
   ]
  },
  {
   "cell_type": "markdown",
   "metadata": {},
   "source": [
    "## Bubble Sort"
   ]
  },
  {
   "cell_type": "markdown",
   "metadata": {},
   "source": [
    "### How the algorithm works\n",
    "\n",
    "As stated above Bubble Sort is a comparison based algorithm.  It is also one fo the simplest sorting algorithms.\n",
    "In Bubble Sort the first number, position [0] is compared to the second number, position [1], and if they are not in order they are swapped, then it compares the second number position [1] with the third number position [2].  If they are in order it moves on to compare position [2]  and position [3].  If position [1] and position [2] were not in order they swap position and so on through n numbers.\n",
    "\n",
    "The algorithm carries on comparing the numbers and the largest number will move through the array, left to right, like a bubble would move up through a drink.\n",
    "\n",
    "After the first pass the largest number is in the correct position, n'th position.  The algorithm then moves through the array again, comparing numbers with the number beside them.  After the second pass the second largest number is in position n-1.  It continues this until the array is sorted.\n",
    "\n",
    "The code I have below for this algorithm is from the following website.\n",
    "http://interactivepython.org/courselib/static/pythonds/SortSearch/TheBubbleSort.html\n",
    "\n",
    "After reading about bubble sort on interactivepython I then put the code through this visualise website to see it in action. http://www.pythontutor.com/visualize.html#mode=edit"
   ]
  },
  {
   "cell_type": "markdown",
   "metadata": {},
   "source": [
    "Bubble Sort Example\n",
    "\n",
    "Array of (6,5,1,3,2,4)\n",
    "\n",
    "(6,5,1,3,2,4)  \n",
    "First Pass   \n",
    "(5,6,1,3,2,4) \t6 is greater than 5 so is swapped  \n",
    "(5,1,6,3,2,4)\t6 is greater than 1 so is swapped  \n",
    "(5,1,3,6,2,4\t6 is greater than 3 so is swapped  \n",
    "(5,1,3,2,6,4)\t6 is greater than 2 so is swapped  \n",
    "(5,1,3,2,4,6)\t6 is greater than 4 so is swapped, 6 is now in its correct position  \n",
    "\n",
    "Second Pass  \n",
    "(1,5,3,2,4,6)\t5 is greater than 1 so is swapped  \n",
    "(1,3,5,2,4,6)\t5 is greater than 3 so is swapped  \n",
    "(1,3,2,5,4,6)\t5 is greater than 2 so is swapped  \n",
    "(1,3,2,4,5,6)\t5 is greater than 4 so is swapped 5 is now in its correct position  \n",
    "\n",
    "Third Pass  \n",
    "(1,3,2,4,5,6) \t1 is less than 3 so they remain in their position  \n",
    "(1,2,3,4,5,6)\t3 is greater than 2 so is swapped  "
   ]
  },
  {
   "cell_type": "code",
   "execution_count": 39,
   "metadata": {},
   "outputs": [
    {
     "name": "stdout",
     "output_type": "stream",
     "text": [
      "[17, 20, 26, 31, 44, 54, 55, 77, 93]\n"
     ]
    }
   ],
   "source": [
    "def bubbleSort(alist):                        # defining the algorithm\n",
    "    for passnum in range(len(alist)-1,0,-1):  # giving the length of the array to passnum\n",
    "        for i in range(passnum):              # all in the range of passnum\n",
    "            if alist[i]>alist[i+1]:           # \n",
    "                temp = alist[i]\n",
    "                alist[i] = alist[i+1]\n",
    "                alist[i+1] = temp\n",
    "\n",
    "alist = [54,26,93,17,77,31,44,55,20]\n",
    "bubbleSort(alist)\n",
    "print(alist)"
   ]
  },
  {
   "cell_type": "markdown",
   "metadata": {},
   "source": [
    "### Time Complexity\n",
    "\n",
    "#### Best / Worst / Average \n",
    "\n",
    "Bubble sort has a best time complexity of O(n) time, this being if the data was sorted in one pass.  It has a worst and average time complexity of O(n^2) that "
   ]
  },
  {
   "cell_type": "markdown",
   "metadata": {},
   "source": [
    "## Insertion Sort"
   ]
  },
  {
   "cell_type": "markdown",
   "metadata": {},
   "source": [
    "### How the algorithm works\n",
    "\n",
    "In this sort the algorithm loops through the array, moving each element at a time to its correct position.  It always has a sorted sublist.\n",
    "This algorithm is a stable algorithm and works well on small lists and nearly sorted lists (we will see this later with Heap sort).  It is very inefficient for large lists.\n",
    "\n",
    "The code I have below for this algorithms is from the following website http://interactivepython.org/courselib/static/pythonds/SortSearch/TheInsertionSort.html\n",
    "\n"
   ]
  },
  {
   "cell_type": "markdown",
   "metadata": {},
   "source": [
    "Insertion Sort Example\n",
    "\n",
    "This algorithm loops through the array, from element 1 to element n-1 moving each element into the correct position as it moves.\n",
    "\n",
    "Array of (6,5,1,3,2,4)\n",
    "\n",
    "(6,5,1,3,2,4) 6 stays where it is to start as it is in position 0\n",
    "(5,6,1,3,2,4) position [1] 5 moves before 6 as it is less than 6\n",
    "(1,5,6,3,2,4) position [2] 1 moves before 5 as it is less than 5 and 6\n",
    "(1,3,5,6,2,4) position [3] 3 moves before 5 and after 1 as it is greater than 1 and less than 5\n",
    "(1,2,3,5,6,4) position [4] 2 moves before 3 and after 1 as it is greater than 1 and less than 3\n",
    "(1,2,3,4,5,6) position [5] 4 moves before 5 and after 3 as it is greater than 3 and less than 5"
   ]
  },
  {
   "cell_type": "code",
   "execution_count": 40,
   "metadata": {},
   "outputs": [
    {
     "name": "stdout",
     "output_type": "stream",
     "text": [
      "[17, 20, 26, 31, 44, 54, 55, 77, 93]\n"
     ]
    }
   ],
   "source": [
    "def insertionSort(alist):\n",
    "   for index in range(1,len(alist)):\n",
    "\n",
    "     currentvalue = alist[index]\n",
    "     position = index\n",
    "\n",
    "     while position>0 and alist[position-1]>currentvalue:\n",
    "         alist[position]=alist[position-1]\n",
    "         position = position-1\n",
    "\n",
    "     alist[position]=currentvalue\n",
    "\n",
    "alist = [54,26,93,17,77,31,44,55,20]\n",
    "insertionSort(alist)\n",
    "print(alist)"
   ]
  },
  {
   "cell_type": "markdown",
   "metadata": {},
   "source": [
    "### Time Complexity\n",
    "\n",
    "#### Best / Worst / Average \n",
    "\n",
    "The best case time complexity of insertion sort is linear time, this is when the array is already sorted and there are no changes or inversions or swaps to be made.\n",
    "This algorithm has an average and worst case time complexity of (O) n ^ 2"
   ]
  },
  {
   "cell_type": "markdown",
   "metadata": {},
   "source": [
    "\n",
    "## Merge Sort\n"
   ]
  },
  {
   "cell_type": "markdown",
   "metadata": {},
   "source": [
    "\n",
    "\n",
    "\n",
    "Merge Sort is a divide and conqour algorithm and it was invented by John Von Neumann in 1945.\n",
    "\n",
    "The code for the algorithm below is from the following website. http://interactivepython.org/courselib/static/pythonds/SortSearch/TheMergeSort.html"
   ]
  },
  {
   "cell_type": "markdown",
   "metadata": {},
   "source": [
    "### How the algorithm works\n",
    "\n",
    "The algorithm is a recursive algorithm and splits the array into 2, a left half and a right half.  It continues to split the arrays until they have 1 or no elements, the base case in the recursion.  It then merges them back together sorted."
   ]
  },
  {
   "cell_type": "markdown",
   "metadata": {},
   "source": [
    "Merge Sort Example\n",
    "\n",
    "This algorithm is a divide and conquer algorithm\n",
    " \n",
    "Array of (6,5,1,3,2,4)\n",
    "\n",
    "First it splits the array in half depending on its length, This array is even so it is an even split. It continues to split until there are 0 or 1 element in the split array\n",
    "\n",
    "1st Left Split\n",
    "(6,5,1)\n",
    "\n",
    "1st Right Split\n",
    "(3,2,4)\n",
    "\n",
    "2nd Left Split\n",
    "(6)\t\t(5,1)\n",
    "\n",
    "3rd Left Split\n",
    "\n",
    "(5)\n",
    "\n",
    "(1)\n",
    "\n",
    "As this is at its base case it then merges these back together to start to reform the array again.\n",
    "\n",
    "1st Left Merge\n",
    "(1,5)\n",
    "\n",
    "2nd Left Merge\n",
    "(1,5,6)\n",
    "\n",
    "\n",
    "2nd Right Split\n",
    "(3)(2,4)\n",
    "\n",
    "3rd Right Split\n",
    "\n",
    "(2)\n",
    "\n",
    "(4)\n",
    "\n",
    "1st Right Merge\n",
    "\n",
    "(2,4)\n",
    "\n",
    "2nd Right Merge\n",
    "\n",
    "(2,3,4)\n",
    "\n",
    "It then merges the 2 lists Left (1,5,6) and right (2,3,4)\n",
    "Into\n",
    "(1,2,3,4,5,6)"
   ]
  },
  {
   "cell_type": "code",
   "execution_count": 4,
   "metadata": {},
   "outputs": [
    {
     "name": "stdout",
     "output_type": "stream",
     "text": [
      "[17, 20, 26, 31, 44, 54, 55, 77, 93]\n"
     ]
    }
   ],
   "source": [
    "def mergeSort(alist):\n",
    "#    print(\"Splitting \",alist)\n",
    "    if len(alist)>1:\n",
    "        mid = len(alist)//2\n",
    "        lefthalf = alist[:mid]\n",
    "        righthalf = alist[mid:]\n",
    "\n",
    "        mergeSort(lefthalf)\n",
    "        mergeSort(righthalf)\n",
    "\n",
    "        i=0\n",
    "        j=0\n",
    "        k=0\n",
    "        while i < len(lefthalf) and j < len(righthalf):\n",
    "            if lefthalf[i] < righthalf[j]:\n",
    "                alist[k]=lefthalf[i]\n",
    "                i=i+1\n",
    "            else:\n",
    "                alist[k]=righthalf[j]\n",
    "                j=j+1\n",
    "            k=k+1\n",
    "\n",
    "        while i < len(lefthalf):\n",
    "            alist[k]=lefthalf[i]\n",
    "            i=i+1\n",
    "            k=k+1\n",
    "\n",
    "        while j < len(righthalf):\n",
    "            alist[k]=righthalf[j]\n",
    "            j=j+1\n",
    "            k=k+1\n",
    "#    print(\"Merging \",alist)\n",
    "\n",
    "alist = [54,26,93,17,77,31,44,55,20]\n",
    "mergeSort(alist)\n",
    "print(alist)"
   ]
  },
  {
   "cell_type": "markdown",
   "metadata": {},
   "source": [
    "### Time Complexity\n",
    "\n",
    "#### Best / Worst / Average \n",
    "\n",
    "This algorithm has a similar run time for best average and worst case time complexity.  It has a worst case time complexity of O (n log(n)).\n",
    "\n",
    "It is a very good all round sorting algorithm."
   ]
  },
  {
   "cell_type": "markdown",
   "metadata": {},
   "source": [
    "\n",
    "## Bucket Sort"
   ]
  },
  {
   "cell_type": "markdown",
   "metadata": {},
   "source": [
    "### How the algorithm works\n",
    "\n",
    "Bucket sort is a stable, divide and conquer algorithm.  The algorithm divides the array into buckets.  It works best when the array is evenly distributed and therefore the buckets will also be evenly filled after division.  This means that no one bucket is doing too much sorting.  \n",
    "\n",
    "For example with a numbered array.\n",
    "- Depending on the largest value and length of the array it may put the values in buckets of size 0-9, 10-19, 20-29 etc etc\n",
    "- The size for the buckets is set by dividing the largest number by the length of the data.  \n",
    "- The data is then put into \"buckets\" via empty lists.\n",
    "- Each bucket is then sorted by insertion sort and merged back with the other sorted buckets.\n"
   ]
  },
  {
   "cell_type": "markdown",
   "metadata": {},
   "source": [
    "Bucket Sort Example\n",
    "\n",
    "(6,5,1,3,2,4)\n",
    "\n",
    "Bucket 1\n",
    "6,5 goes to 5,6\n",
    "\n",
    "Bucket 2\n",
    "1,3,2,4 goes to 1,2,3,4\n",
    "\n",
    "\n",
    "Now the buckets merge back into a sorted array\n",
    "1,2,3,4 are merged with 5,6 giving the sorted arry\n",
    "\n",
    "(1,2,3,4,5,6)"
   ]
  },
  {
   "cell_type": "code",
   "execution_count": 5,
   "metadata": {},
   "outputs": [
    {
     "name": "stdout",
     "output_type": "stream",
     "text": [
      "[17, 20, 26, 31, 44, 54, 55, 77, 93]\n"
     ]
    }
   ],
   "source": [
    "def bucketSort(alist):\n",
    "    largest = max(alist)                         # set the biggest number to largest\n",
    "    length = len(alist)                          # set the size/number of the array to length\n",
    "    size = largest/length                        # set size to the largest divided b the length\n",
    " \n",
    "    buckets = [[] for _ in range(length)]        # set empty arrays to buckets\n",
    "    for i in range(length):                      # loop through the length of the array\n",
    "        j = int(alist[i]/size)                   \n",
    "        if j != length:\n",
    "            buckets[j].append(alist[i])\n",
    "        else:\n",
    "            buckets[length - 1].append(alist[i])\n",
    " \n",
    "    for i in range(length):\n",
    "        insertionSort(buckets[i])\n",
    " \n",
    "    result = []\n",
    "    for i in range(length):\n",
    "        result = result + buckets[i]\n",
    " \n",
    "    return result\n",
    " \n",
    "def insertionSort(alist):\n",
    "    for i in range(1, len(alist)):\n",
    "        temp = alist[i]\n",
    "        j = i - 1\n",
    "        while (j >= 0 and temp < alist[j]):\n",
    "            alist[j + 1] = alist[j]\n",
    "            j = j - 1\n",
    "        alist[j + 1] = temp\n",
    " \n",
    " \n",
    "alist = [54,26,93,17,77,31,44,55,20]\n",
    "bucketSort(alist)\n",
    "print(bucketSort(alist))"
   ]
  },
  {
   "cell_type": "markdown",
   "metadata": {},
   "source": [
    "### Time Complexity\n",
    "\n",
    "#### Best / Worst / Average \n",
    "\n",
    "This algorithm has a worst case time complexity of O (n^2).  Bucket Sort is useful when there are a uniform range of values to be sorted.  It can be at the worst case if the range is not uniform and there are many values  together meaning that many values will go into one bucket, this slows down their sort as each bucket is sorted individually using Insertion Sort.\n"
   ]
  },
  {
   "cell_type": "markdown",
   "metadata": {},
   "source": [
    "\n",
    "## Heap Sort\n"
   ]
  },
  {
   "cell_type": "markdown",
   "metadata": {},
   "source": [
    "## How the algorithm works\n",
    "\n",
    "Heap Sort is an efficient algorithm.  However it is not a stable sorting algorithm.  It uses binary tree build of the array to sort it.  Firstly it makes the array into a binary tree and then sorts the nodes so that the largest element becomes the parent node on the top.\n",
    "\n",
    "The code for this algorithm below is from the following website https://www.programiz.com/dsa/heap-sort."
   ]
  },
  {
   "cell_type": "markdown",
   "metadata": {},
   "source": [
    "Heap Sort\n",
    "\n",
    "Firstly the algorithm makes a binary tree out of the array\n",
    "\n",
    "(6,5,1,3,2,4)\n",
    "\n",
    "So here the parent node is 6\n",
    "\n",
    "Then the next pair of elements are the children of the parent node 5,1\n",
    "\n",
    "3 and 2 are the children of 5 and 4 is the child of 1\n",
    "\n",
    "![BinaryTree](Binary tree.PNG)\n",
    "\n",
    "Here the parent node is the largest so that does not have to change\n",
    "\n"
   ]
  },
  {
   "cell_type": "markdown",
   "metadata": {},
   "source": [
    "![BinaryTree](Binary tree.PNG)"
   ]
  },
  {
   "cell_type": "markdown",
   "metadata": {},
   "source": [
    "### Time Complexity\n",
    "\n",
    "#### Best / Worst / Average \n",
    "\n",
    "The time complexity of Heap sort is O (n log (n))."
   ]
  },
  {
   "cell_type": "markdown",
   "metadata": {},
   "source": [
    "# <u>Implementation and Benchmarking</u>"
   ]
  },
  {
   "cell_type": "markdown",
   "metadata": {},
   "source": [
    "Now after looking at the algorithms above we will see how they preform in sorting arrays of different sizes.\n",
    "Firstly I will import a number of python mudules to time, test and plot the findings."
   ]
  },
  {
   "cell_type": "code",
   "execution_count": 6,
   "metadata": {},
   "outputs": [],
   "source": [
    "import time\n",
    "import statistics\n",
    "import numpy as np  # importing numpy as np\n",
    "import pandas as pd # importing pandas as pd\n",
    "import matplotlib.pyplot as plt\n",
    "import seaborn as sns"
   ]
  },
  {
   "cell_type": "markdown",
   "metadata": {},
   "source": [
    "### Data Array\n",
    "For my data arrays I will use numpy's random randint number generator.\n",
    "\n",
    "To try to have the benchmarking as fair as possible I am using a random seed generator so that all the arrays to be sorted are the same.  The arrays used in the sorting algorithms are below.  They range in size from 100 elements to 50,000 elements."
   ]
  },
  {
   "cell_type": "code",
   "execution_count": 7,
   "metadata": {},
   "outputs": [],
   "source": [
    "np.random.seed(1)                                # seeding random on seed 1 so that all the arrays are the same\n",
    "\n",
    "a = np.random.randint(200000, size=100)          # array of size 100\n",
    "b = np.random.randint(200000, size=250)          # array of size 250\n",
    "c = np.random.randint(200000, size=500)          # array of size 500\n",
    "d = np.random.randint(200000, size=750)          # array of size 750\n",
    "e = np.random.randint(200000, size=1000)         # array of size 1000\n",
    "f = np.random.randint(200000, size=2500)         # array of size 2500\n",
    "g = np.random.randint(200000, size=5000)         # array of size 5000\n",
    "h = np.random.randint(200000, size=7500)         # array of size 7500\n",
    "i = np.random.randint(200000, size=10000)        # array of size 10000\n",
    "j = np.random.randint(200000, size=15000)        # array of size 15000\n",
    "k = np.random.randint(200000, size=20000)        # array of size 20000\n",
    "l = np.random.randint(200000, size=30000)        # array of size 30000\n",
    "m = np.random.randint(200000, size=50000)        # array of size 50000\n",
    "\n",
    "sizes = [100,250,500,750,1000,2500,5000,7500,10000,15000,20000,30000,50000]"
   ]
  },
  {
   "cell_type": "markdown",
   "metadata": {},
   "source": [
    "I have seperate python program files that will time the algorithms sorting of each array in turn, there are 10 runs for each array and an average in milliseconds is then produced for that array.  A list of times wil be sent to this file and I will use these timings to create a dataframe using pandas.\n",
    " \n",
    "To call the times for the sorting algorithms sorting of the arrays I will use %run command followed by the file name. "
   ]
  },
  {
   "cell_type": "code",
   "execution_count": 12,
   "metadata": {},
   "outputs": [
    {
     "name": "stdout",
     "output_type": "stream",
     "text": [
      "[1.994, 11.967, 48.869, 111.701, 223.44, 1261.626, 5272.904, 11307.77, 21168.446, 47626.679, 80845.872, 181673.325, 499384.015]\n"
     ]
    }
   ],
   "source": [
    "%run benchmarkbubble.py  \n",
    "# https://stackoverflow.com/questions/21034373/how-to-load-edit-run-save-text-files-py-into-an-ipython-notebook-cell\n",
    "\n",
    "print(bubblebench)"
   ]
  },
  {
   "cell_type": "code",
   "execution_count": 11,
   "metadata": {},
   "outputs": [
    {
     "name": "stdout",
     "output_type": "stream",
     "text": [
      "[0.997, 4.986, 20.944, 49.872, 104.757, 580.413, 2432.493, 5083.405, 9097.674, 20480.215, 36473.542, 81908.992, 226183.337]\n"
     ]
    }
   ],
   "source": [
    "%run benchmarkinsertion.py\n",
    "\n",
    "print(insertionbench)"
   ]
  },
  {
   "cell_type": "code",
   "execution_count": 10,
   "metadata": {},
   "outputs": [
    {
     "name": "stdout",
     "output_type": "stream",
     "text": [
      "[0.998, 1.988, 1.994, 4.986, 4.986, 15.957, 33.909, 52.859, 73.803, 112.698, 156.546, 243.349, 425.825]\n"
     ]
    }
   ],
   "source": [
    "%run benchmarkmerge.py\n",
    "\n",
    "print(mergebench)"
   ]
  },
  {
   "cell_type": "code",
   "execution_count": 9,
   "metadata": {},
   "outputs": [
    {
     "name": "stdout",
     "output_type": "stream",
     "text": [
      "[0.0, 2.99, 3.984, 5.984, 9.988, 18.919, 76.793, 102.723, 245.343, 551.558, 760.966, 1741.346, 5026.561]\n"
     ]
    }
   ],
   "source": [
    "%run benchmarkbucket.py\n",
    "\n",
    "print(bucketbench)"
   ]
  },
  {
   "cell_type": "code",
   "execution_count": 8,
   "metadata": {},
   "outputs": [
    {
     "name": "stdout",
     "output_type": "stream",
     "text": [
      "[0.998, 1.969, 4.966, 9.973, 10.972, 25.932, 81.78, 91.721, 124.701, 196.475, 272.237, 421.835, 1119.008]\n"
     ]
    }
   ],
   "source": [
    "%run benchmarkheap.py\n",
    "\n",
    "print(heapbench)"
   ]
  },
  {
   "cell_type": "code",
   "execution_count": null,
   "metadata": {},
   "outputs": [],
   "source": [
    "# https://stackoverflow.com/questions/17091769/python-pandas-fill-a-dataframe-row-by-row\n",
    "# https://pandas.pydata.org/pandas-docs/stable/user_guide/options.html#overview\n",
    "# https://stackoverflow.com/questions/42202872/how-to-convert-list-to-row-dataframe-with-pandas\n",
    "# https://www.tutorialspoint.com/python_pandas/python_pandas_dataframe.htm\n",
    "# https://stackoverflow.com/questions/39941321/create-dataframe-from-multiple-series\n",
    "# https://stackoverflow.com/questions/16301546/swapping-axes-in-pandas"
   ]
  },
  {
   "cell_type": "code",
   "execution_count": 35,
   "metadata": {},
   "outputs": [
    {
     "name": "stdout",
     "output_type": "stream",
     "text": [
      "       Bubblesort  Insertionsort  Mergesort  Bucketsort  Heapsort\n",
      "Size                                                             \n",
      "100         1.994          0.997      0.998       0.000     0.998\n",
      "250        11.967          4.986      1.988       2.990     1.969\n",
      "500        48.869         20.944      1.994       3.984     4.966\n",
      "750       111.701         49.872      4.986       5.984     9.973\n",
      "1000      223.440        104.757      4.986       9.988    10.972\n",
      "2500     1261.626        580.413     15.957      18.919    25.932\n",
      "5000     5272.904       2432.493     33.909      76.793    81.780\n",
      "7500    11307.770       5083.405     52.859     102.723    91.721\n",
      "10000   21168.446       9097.674     73.803     245.343   124.701\n",
      "15000   47626.679      20480.215    112.698     551.558   196.475\n",
      "20000   80845.872      36473.542    156.546     760.966   272.237\n",
      "30000  181673.325      81908.992    243.349    1741.346   421.835\n",
      "50000  499384.015     226183.337    425.825    5026.561  1119.008\n"
     ]
    }
   ],
   "source": [
    "benchmark_dataframe = pd.DataFrame({'Size':sizes,\n",
    "                                    'Bubblesort':bubblebench, \n",
    "                                    'Insertionsort': insertionbench,\n",
    "                                    'Mergesort':mergebench, \n",
    "                                    'Bucketsort':bucketbench, \n",
    "                                    'Heapsort':heapbench})\n",
    "\n",
    "benchmark_dataframe = benchmark_dataframe.set_index(\"Size\")\n",
    "print(benchmark_dataframe)"
   ]
  },
  {
   "cell_type": "code",
   "execution_count": 36,
   "metadata": {},
   "outputs": [
    {
     "data": {
      "image/png": "[encoded data removed]",
      "text/plain": [
       "<Figure size 1080x720 with 1 Axes>"
      ]
     },
     "metadata": {},
     "output_type": "display_data"
    }
   ],
   "source": [
    "benchmark_dataframe.plot()\n",
    "sns.set(rc={'figure.figsize':(15,10)})\n",
    "plt.title(\"Benchmark Sorting Algorithms\")\n",
    "plt.xlabel(\"Length of list (number)\")\n",
    "plt.ylabel(\"Time taken (milliseconds)\")\n",
    "plt.show()"
   ]
  },
  {
   "cell_type": "code",
   "execution_count": 38,
   "metadata": {},
   "outputs": [
    {
     "data": {
      "text/html": [
       "<div>\n",
       "<style scoped>\n",
       "    .dataframe tbody tr th:only-of-type {\n",
       "        vertical-align: middle;\n",
       "    }\n",
       "\n",
       "    .dataframe tbody tr th {\n",
       "        vertical-align: top;\n",
       "    }\n",
       "\n",
       "    .dataframe thead th {\n",
       "        text-align: right;\n",
       "    }\n",
       "</style>\n",
       "<table border=\"1\" class=\"dataframe\">\n",
       "  <thead>\n",
       "    <tr style=\"text-align: right;\">\n",
       "      <th></th>\n",
       "      <th>Bubblesort</th>\n",
       "      <th>Insertionsort</th>\n",
       "      <th>Mergesort</th>\n",
       "      <th>Bucketsort</th>\n",
       "      <th>Heapsort</th>\n",
       "    </tr>\n",
       "  </thead>\n",
       "  <tbody>\n",
       "    <tr>\n",
       "      <th>count</th>\n",
       "      <td>13.000000</td>\n",
       "      <td>13.000000</td>\n",
       "      <td>13.000000</td>\n",
       "      <td>13.000000</td>\n",
       "      <td>13.000000</td>\n",
       "    </tr>\n",
       "    <tr>\n",
       "      <th>mean</th>\n",
       "      <td>65302.969846</td>\n",
       "      <td>29417.048231</td>\n",
       "      <td>86.915231</td>\n",
       "      <td>657.473462</td>\n",
       "      <td>181.735923</td>\n",
       "    </tr>\n",
       "    <tr>\n",
       "      <th>std</th>\n",
       "      <td>140345.158933</td>\n",
       "      <td>63562.898271</td>\n",
       "      <td>125.582595</td>\n",
       "      <td>1403.552634</td>\n",
       "      <td>308.902450</td>\n",
       "    </tr>\n",
       "    <tr>\n",
       "      <th>min</th>\n",
       "      <td>1.994000</td>\n",
       "      <td>0.997000</td>\n",
       "      <td>0.998000</td>\n",
       "      <td>0.000000</td>\n",
       "      <td>0.998000</td>\n",
       "    </tr>\n",
       "    <tr>\n",
       "      <th>25%</th>\n",
       "      <td>111.701000</td>\n",
       "      <td>49.872000</td>\n",
       "      <td>4.986000</td>\n",
       "      <td>5.984000</td>\n",
       "      <td>9.973000</td>\n",
       "    </tr>\n",
       "    <tr>\n",
       "      <th>50%</th>\n",
       "      <td>5272.904000</td>\n",
       "      <td>2432.493000</td>\n",
       "      <td>33.909000</td>\n",
       "      <td>76.793000</td>\n",
       "      <td>81.780000</td>\n",
       "    </tr>\n",
       "    <tr>\n",
       "      <th>75%</th>\n",
       "      <td>47626.679000</td>\n",
       "      <td>20480.215000</td>\n",
       "      <td>112.698000</td>\n",
       "      <td>551.558000</td>\n",
       "      <td>196.475000</td>\n",
       "    </tr>\n",
       "    <tr>\n",
       "      <th>max</th>\n",
       "      <td>499384.015000</td>\n",
       "      <td>226183.337000</td>\n",
       "      <td>425.825000</td>\n",
       "      <td>5026.561000</td>\n",
       "      <td>1119.008000</td>\n",
       "    </tr>\n",
       "  </tbody>\n",
       "</table>\n",
       "</div>"
      ],
      "text/plain": [
       "          Bubblesort  Insertionsort   Mergesort   Bucketsort     Heapsort\n",
       "count      13.000000      13.000000   13.000000    13.000000    13.000000\n",
       "mean    65302.969846   29417.048231   86.915231   657.473462   181.735923\n",
       "std    140345.158933   63562.898271  125.582595  1403.552634   308.902450\n",
       "min         1.994000       0.997000    0.998000     0.000000     0.998000\n",
       "25%       111.701000      49.872000    4.986000     5.984000     9.973000\n",
       "50%      5272.904000    2432.493000   33.909000    76.793000    81.780000\n",
       "75%     47626.679000   20480.215000  112.698000   551.558000   196.475000\n",
       "max    499384.015000  226183.337000  425.825000  5026.561000  1119.008000"
      ]
     },
     "execution_count": 38,
     "metadata": {},
     "output_type": "execute_result"
    }
   ],
   "source": [
    "benchmark_dataframe.describe()"
   ]
  },
  {
   "cell_type": "code",
   "execution_count": 30,
   "metadata": {},
   "outputs": [
    {
     "name": "stdout",
     "output_type": "stream",
     "text": [
      "       Insertionsort  Mergesort  Bucketsort  Heapsort\n",
      "Size                                                 \n",
      "100            0.997      0.998       0.000     0.998\n",
      "250            4.986      1.988       2.990     1.969\n",
      "500           20.944      1.994       3.984     4.966\n",
      "750           49.872      4.986       5.984     9.973\n",
      "1000         104.757      4.986       9.988    10.972\n",
      "2500         580.413     15.957      18.919    25.932\n",
      "5000        2432.493     33.909      76.793    81.780\n",
      "7500        5083.405     52.859     102.723    91.721\n",
      "10000       9097.674     73.803     245.343   124.701\n",
      "15000      20480.215    112.698     551.558   196.475\n",
      "20000      36473.542    156.546     760.966   272.237\n",
      "30000      81908.992    243.349    1741.346   421.835\n",
      "50000     226183.337    425.825    5026.561  1119.008\n"
     ]
    }
   ],
   "source": [
    "benchmark_dataframe = pd.DataFrame({'Size':sizes,\n",
    "                                    'Insertionsort': insertionbench,\n",
    "                                    'Mergesort':mergebench, \n",
    "                                    'Bucketsort':bucketbench, \n",
    "                                    'Heapsort':heapbench})\n",
    "\n",
    "benchmark_dataframe = benchmark_dataframe.set_index(\"Size\")\n",
    "print(benchmark_dataframe)"
   ]
  },
  {
   "cell_type": "code",
   "execution_count": 31,
   "metadata": {},
   "outputs": [
    {
     "data": {
      "image/png": "[encoded data removed]",
      "text/plain": [
       "<Figure size 1080x720 with 1 Axes>"
      ]
     },
     "metadata": {},
     "output_type": "display_data"
    }
   ],
   "source": [
    "# without Bubble sort as it looks like it is skewing the graph?\n",
    "benchmark_dataframe.plot()\n",
    "sns.set(rc={'figure.figsize':(15,10)})\n",
    "plt.title(\"Benchmark Sorting Algorithms\")\n",
    "plt.xlabel(\"Length of list (number)\")\n",
    "plt.ylabel(\"Time taken (milliseconds)\")\n",
    "plt.show()"
   ]
  },
  {
   "cell_type": "code",
   "execution_count": 32,
   "metadata": {},
   "outputs": [
    {
     "name": "stdout",
     "output_type": "stream",
     "text": [
      "       Mergesort  Bucketsort  Heapsort\n",
      "Size                                  \n",
      "100        0.998       0.000     0.998\n",
      "250        1.988       2.990     1.969\n",
      "500        1.994       3.984     4.966\n",
      "750        4.986       5.984     9.973\n",
      "1000       4.986       9.988    10.972\n",
      "2500      15.957      18.919    25.932\n",
      "5000      33.909      76.793    81.780\n",
      "7500      52.859     102.723    91.721\n",
      "10000     73.803     245.343   124.701\n",
      "15000    112.698     551.558   196.475\n",
      "20000    156.546     760.966   272.237\n",
      "30000    243.349    1741.346   421.835\n",
      "50000    425.825    5026.561  1119.008\n"
     ]
    }
   ],
   "source": [
    "benchmark_dataframe = pd.DataFrame({'Size':sizes,\n",
    "                                    'Mergesort':mergebench, \n",
    "                                    'Bucketsort':bucketbench, \n",
    "                                    'Heapsort':heapbench})\n",
    "\n",
    "benchmark_dataframe = benchmark_dataframe.set_index(\"Size\")\n",
    "print(benchmark_dataframe)"
   ]
  },
  {
   "cell_type": "code",
   "execution_count": 33,
   "metadata": {},
   "outputs": [
    {
     "data": {
      "image/png": "[encoded data removed]",
      "text/plain": [
       "<Figure size 1080x720 with 1 Axes>"
      ]
     },
     "metadata": {},
     "output_type": "display_data"
    }
   ],
   "source": [
    "# without Bubble sort and Insertion sort\n",
    "benchmark_dataframe.plot()\n",
    "sns.set(rc={'figure.figsize':(15,10)})\n",
    "plt.title(\"Benchmark Sorting Algorithms\")\n",
    "plt.xlabel(\"Length of list (number)\")\n",
    "plt.ylabel(\"Time taken (milliseconds)\")\n",
    "plt.show()"
   ]
  },
  {
   "cell_type": "code",
   "execution_count": 47,
   "metadata": {},
   "outputs": [
    {
     "data": {
      "text/html": [
       "<pre>&lt;class 'pandas.core.frame.DataFrame'&gt;\n",
       "Index: 5 entries, Bubblesort to Bucketsort\n",
       "Data columns (total 13 columns):\n",
       "100      5 non-null float64\n",
       "250      5 non-null float64\n",
       "500      5 non-null float64\n",
       "750      5 non-null float64\n",
       "1000     5 non-null float64\n",
       "2500     5 non-null float64\n",
       "5000     5 non-null float64\n",
       "7500     5 non-null float64\n",
       "10000    5 non-null float64\n",
       "15000    5 non-null float64\n",
       "20000    5 non-null float64\n",
       "30000    5 non-null float64\n",
       "50000    5 non-null float64\n",
       "dtypes: float64(13)\n",
       "memory usage: 560.0+ bytes\n",
       "</pre>"
      ],
      "text/plain": [
       "<class 'pandas.core.frame.DataFrame'>\n",
       "Index: 5 entries, Bubblesort to Bucketsort\n",
       "Data columns (total 13 columns):\n",
       "100      5 non-null float64\n",
       "250      5 non-null float64\n",
       "500      5 non-null float64\n",
       "750      5 non-null float64\n",
       "1000     5 non-null float64\n",
       "2500     5 non-null float64\n",
       "5000     5 non-null float64\n",
       "7500     5 non-null float64\n",
       "10000    5 non-null float64\n",
       "15000    5 non-null float64\n",
       "20000    5 non-null float64\n",
       "30000    5 non-null float64\n",
       "50000    5 non-null float64\n",
       "dtypes: float64(13)\n",
       "memory usage: 560.0+ bytes"
      ]
     },
     "execution_count": 47,
     "metadata": {},
     "output_type": "execute_result"
    }
   ],
   "source": [
    "df"
   ]
  },
  {
   "cell_type": "markdown",
   "metadata": {},
   "source": [
    "## <u>Conclusion</u>\n",
    "\n",
    "In conclusion it is very important to know the data that needs to be sorted, what you need the sorting algorithm to do.  Do you want to know how many of an element are in the data, or if stability is important or is speed important.\n",
    "\n",
    "Once you go to bigger sizes of data you really need to pick your algorithm to suit your data and your sort.  When your data is under 10,000 elements, the differences in timings are negligible but when you go over 10,000 elements you see magnitudes of difference of the time taken.  This is especially shown with Bubble sort."
   ]
  }
 ],
 "metadata": {
  "kernelspec": {
   "display_name": "Python 3",
   "language": "python",
   "name": "python3"
  },
  "language_info": {
   "codemirror_mode": {
    "name": "ipython",
    "version": 3
   },
   "file_extension": ".py",
   "mimetype": "text/x-python",
   "name": "python",
   "nbconvert_exporter": "python",
   "pygments_lexer": "ipython3",
   "version": "3.7.3"
  }
 },
 "nbformat": 4,
 "nbformat_minor": 2
}
